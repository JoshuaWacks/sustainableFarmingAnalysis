{
 "cells": [
  {
   "cell_type": "markdown",
   "metadata": {},
   "source": [
    "Cluster into specific farm types and see if you can find the optimal way to manage them"
   ]
  },
  {
   "cell_type": "code",
   "execution_count": 1,
   "metadata": {},
   "outputs": [],
   "source": [
    "import pandas as pd\n",
    "import numpy as np\n",
    "import matplotlib.pyplot as plt\n",
    "import seaborn as sns\n",
    "from sklearn.preprocessing import OneHotEncoder\n",
    "from sklearn.cluster import KMeans\n",
    "from sklearn import metrics\n",
    "from scipy.spatial.distance import cdist"
   ]
  },
  {
   "cell_type": "code",
   "execution_count": 2,
   "metadata": {},
   "outputs": [],
   "source": [
    "farmer_df = pd.read_csv('./data/farmer_advisor_dataset.csv')\n",
    "farmer_df = farmer_df.drop(columns='Farm_ID')"
   ]
  },
  {
   "cell_type": "code",
   "execution_count": 3,
   "metadata": {},
   "outputs": [
    {
     "data": {
      "text/html": [
       "<div>\n",
       "<style scoped>\n",
       "    .dataframe tbody tr th:only-of-type {\n",
       "        vertical-align: middle;\n",
       "    }\n",
       "\n",
       "    .dataframe tbody tr th {\n",
       "        vertical-align: top;\n",
       "    }\n",
       "\n",
       "    .dataframe thead th {\n",
       "        text-align: right;\n",
       "    }\n",
       "</style>\n",
       "<table border=\"1\" class=\"dataframe\">\n",
       "  <thead>\n",
       "    <tr style=\"text-align: right;\">\n",
       "      <th></th>\n",
       "      <th>Soil_pH</th>\n",
       "      <th>Soil_Moisture</th>\n",
       "      <th>Temperature_C</th>\n",
       "      <th>Rainfall_mm</th>\n",
       "      <th>Crop_Type</th>\n",
       "      <th>Fertilizer_Usage_kg</th>\n",
       "      <th>Pesticide_Usage_kg</th>\n",
       "      <th>Crop_Yield_ton</th>\n",
       "      <th>Sustainability_Score</th>\n",
       "    </tr>\n",
       "  </thead>\n",
       "  <tbody>\n",
       "    <tr>\n",
       "      <th>0</th>\n",
       "      <td>7.073643</td>\n",
       "      <td>49.145359</td>\n",
       "      <td>26.668157</td>\n",
       "      <td>227.890912</td>\n",
       "      <td>Wheat</td>\n",
       "      <td>131.692844</td>\n",
       "      <td>2.958215</td>\n",
       "      <td>1.576920</td>\n",
       "      <td>51.913649</td>\n",
       "    </tr>\n",
       "    <tr>\n",
       "      <th>1</th>\n",
       "      <td>6.236931</td>\n",
       "      <td>21.496115</td>\n",
       "      <td>29.325342</td>\n",
       "      <td>244.017493</td>\n",
       "      <td>Soybean</td>\n",
       "      <td>136.370492</td>\n",
       "      <td>19.204770</td>\n",
       "      <td>3.824686</td>\n",
       "      <td>47.159077</td>\n",
       "    </tr>\n",
       "    <tr>\n",
       "      <th>2</th>\n",
       "      <td>5.922335</td>\n",
       "      <td>19.469042</td>\n",
       "      <td>17.666414</td>\n",
       "      <td>141.110521</td>\n",
       "      <td>Corn</td>\n",
       "      <td>99.725210</td>\n",
       "      <td>11.041066</td>\n",
       "      <td>1.133198</td>\n",
       "      <td>50.148418</td>\n",
       "    </tr>\n",
       "    <tr>\n",
       "      <th>3</th>\n",
       "      <td>6.845120</td>\n",
       "      <td>27.974234</td>\n",
       "      <td>17.188722</td>\n",
       "      <td>156.785663</td>\n",
       "      <td>Wheat</td>\n",
       "      <td>194.832396</td>\n",
       "      <td>8.806271</td>\n",
       "      <td>8.870540</td>\n",
       "      <td>89.764557</td>\n",
       "    </tr>\n",
       "    <tr>\n",
       "      <th>4</th>\n",
       "      <td>6.934171</td>\n",
       "      <td>33.637679</td>\n",
       "      <td>23.603899</td>\n",
       "      <td>77.859362</td>\n",
       "      <td>Corn</td>\n",
       "      <td>57.271267</td>\n",
       "      <td>3.747553</td>\n",
       "      <td>8.779317</td>\n",
       "      <td>51.033941</td>\n",
       "    </tr>\n",
       "  </tbody>\n",
       "</table>\n",
       "</div>"
      ],
      "text/plain": [
       "    Soil_pH  Soil_Moisture  Temperature_C  Rainfall_mm Crop_Type  \\\n",
       "0  7.073643      49.145359      26.668157   227.890912     Wheat   \n",
       "1  6.236931      21.496115      29.325342   244.017493   Soybean   \n",
       "2  5.922335      19.469042      17.666414   141.110521      Corn   \n",
       "3  6.845120      27.974234      17.188722   156.785663     Wheat   \n",
       "4  6.934171      33.637679      23.603899    77.859362      Corn   \n",
       "\n",
       "   Fertilizer_Usage_kg  Pesticide_Usage_kg  Crop_Yield_ton  \\\n",
       "0           131.692844            2.958215        1.576920   \n",
       "1           136.370492           19.204770        3.824686   \n",
       "2            99.725210           11.041066        1.133198   \n",
       "3           194.832396            8.806271        8.870540   \n",
       "4            57.271267            3.747553        8.779317   \n",
       "\n",
       "   Sustainability_Score  \n",
       "0             51.913649  \n",
       "1             47.159077  \n",
       "2             50.148418  \n",
       "3             89.764557  \n",
       "4             51.033941  "
      ]
     },
     "execution_count": 3,
     "metadata": {},
     "output_type": "execute_result"
    }
   ],
   "source": [
    "farmer_df.head()"
   ]
  },
  {
   "cell_type": "code",
   "execution_count": 4,
   "metadata": {},
   "outputs": [],
   "source": [
    "# encoder = OneHotEncoder(sparse_output=False)\n",
    "# one_hot_encoded = encoder.fit_transform(farmer_df[['Crop_Type']])\n",
    "\n",
    "# one_hot_df = pd.DataFrame(one_hot_encoded, columns=encoder.get_feature_names_out(['Crop_Type']))\n",
    "# df_encoded = pd.concat([farmer_df, one_hot_df], axis=1).drop(columns='Crop_Type')\n"
   ]
  },
  {
   "cell_type": "code",
   "execution_count": 5,
   "metadata": {},
   "outputs": [],
   "source": [
    "df_encoded = farmer_df.drop(columns='Crop_Type')"
   ]
  },
  {
   "cell_type": "code",
   "execution_count": 6,
   "metadata": {},
   "outputs": [],
   "source": [
    "normalized_df=(df_encoded-df_encoded.min())/(df_encoded.max()-df_encoded.min())"
   ]
  },
  {
   "cell_type": "code",
   "execution_count": 7,
   "metadata": {},
   "outputs": [
    {
     "data": {
      "text/html": [
       "<div>\n",
       "<style scoped>\n",
       "    .dataframe tbody tr th:only-of-type {\n",
       "        vertical-align: middle;\n",
       "    }\n",
       "\n",
       "    .dataframe tbody tr th {\n",
       "        vertical-align: top;\n",
       "    }\n",
       "\n",
       "    .dataframe thead th {\n",
       "        text-align: right;\n",
       "    }\n",
       "</style>\n",
       "<table border=\"1\" class=\"dataframe\">\n",
       "  <thead>\n",
       "    <tr style=\"text-align: right;\">\n",
       "      <th></th>\n",
       "      <th>Soil_pH</th>\n",
       "      <th>Soil_Moisture</th>\n",
       "      <th>Temperature_C</th>\n",
       "      <th>Rainfall_mm</th>\n",
       "      <th>Fertilizer_Usage_kg</th>\n",
       "      <th>Pesticide_Usage_kg</th>\n",
       "      <th>Crop_Yield_ton</th>\n",
       "      <th>Sustainability_Score</th>\n",
       "    </tr>\n",
       "  </thead>\n",
       "  <tbody>\n",
       "    <tr>\n",
       "      <th>0</th>\n",
       "      <td>0.786913</td>\n",
       "      <td>0.978762</td>\n",
       "      <td>0.583413</td>\n",
       "      <td>0.711566</td>\n",
       "      <td>0.544626</td>\n",
       "      <td>0.103004</td>\n",
       "      <td>0.064071</td>\n",
       "      <td>0.519147</td>\n",
       "    </tr>\n",
       "    <tr>\n",
       "      <th>1</th>\n",
       "      <td>0.368503</td>\n",
       "      <td>0.287389</td>\n",
       "      <td>0.716276</td>\n",
       "      <td>0.776084</td>\n",
       "      <td>0.575814</td>\n",
       "      <td>0.958188</td>\n",
       "      <td>0.313842</td>\n",
       "      <td>0.471597</td>\n",
       "    </tr>\n",
       "    <tr>\n",
       "      <th>2</th>\n",
       "      <td>0.211184</td>\n",
       "      <td>0.236702</td>\n",
       "      <td>0.133315</td>\n",
       "      <td>0.364381</td>\n",
       "      <td>0.331486</td>\n",
       "      <td>0.528468</td>\n",
       "      <td>0.014765</td>\n",
       "      <td>0.501493</td>\n",
       "    </tr>\n",
       "    <tr>\n",
       "      <th>3</th>\n",
       "      <td>0.672637</td>\n",
       "      <td>0.449375</td>\n",
       "      <td>0.109430</td>\n",
       "      <td>0.427093</td>\n",
       "      <td>0.965601</td>\n",
       "      <td>0.410833</td>\n",
       "      <td>0.874535</td>\n",
       "      <td>0.897691</td>\n",
       "    </tr>\n",
       "    <tr>\n",
       "      <th>4</th>\n",
       "      <td>0.717168</td>\n",
       "      <td>0.590990</td>\n",
       "      <td>0.430197</td>\n",
       "      <td>0.111330</td>\n",
       "      <td>0.048430</td>\n",
       "      <td>0.144553</td>\n",
       "      <td>0.864399</td>\n",
       "      <td>0.510349</td>\n",
       "    </tr>\n",
       "    <tr>\n",
       "      <th>...</th>\n",
       "      <td>...</td>\n",
       "      <td>...</td>\n",
       "      <td>...</td>\n",
       "      <td>...</td>\n",
       "      <td>...</td>\n",
       "      <td>...</td>\n",
       "      <td>...</td>\n",
       "      <td>...</td>\n",
       "    </tr>\n",
       "    <tr>\n",
       "      <th>9995</th>\n",
       "      <td>0.568850</td>\n",
       "      <td>0.143051</td>\n",
       "      <td>0.866538</td>\n",
       "      <td>0.868128</td>\n",
       "      <td>0.261324</td>\n",
       "      <td>0.658669</td>\n",
       "      <td>0.568718</td>\n",
       "      <td>0.085758</td>\n",
       "    </tr>\n",
       "    <tr>\n",
       "      <th>9996</th>\n",
       "      <td>0.375853</td>\n",
       "      <td>0.053980</td>\n",
       "      <td>0.416215</td>\n",
       "      <td>0.335518</td>\n",
       "      <td>0.284483</td>\n",
       "      <td>0.118746</td>\n",
       "      <td>0.976864</td>\n",
       "      <td>0.965667</td>\n",
       "    </tr>\n",
       "    <tr>\n",
       "      <th>9997</th>\n",
       "      <td>0.769540</td>\n",
       "      <td>0.004005</td>\n",
       "      <td>0.420003</td>\n",
       "      <td>0.334753</td>\n",
       "      <td>0.361208</td>\n",
       "      <td>0.731766</td>\n",
       "      <td>0.291438</td>\n",
       "      <td>0.516592</td>\n",
       "    </tr>\n",
       "    <tr>\n",
       "      <th>9998</th>\n",
       "      <td>0.073663</td>\n",
       "      <td>0.465858</td>\n",
       "      <td>0.806127</td>\n",
       "      <td>0.208587</td>\n",
       "      <td>0.057535</td>\n",
       "      <td>0.600966</td>\n",
       "      <td>0.622828</td>\n",
       "      <td>0.165359</td>\n",
       "    </tr>\n",
       "    <tr>\n",
       "      <th>9999</th>\n",
       "      <td>0.566594</td>\n",
       "      <td>0.554348</td>\n",
       "      <td>0.453497</td>\n",
       "      <td>0.077734</td>\n",
       "      <td>0.760567</td>\n",
       "      <td>0.244162</td>\n",
       "      <td>0.470112</td>\n",
       "      <td>0.763242</td>\n",
       "    </tr>\n",
       "  </tbody>\n",
       "</table>\n",
       "<p>10000 rows × 8 columns</p>\n",
       "</div>"
      ],
      "text/plain": [
       "       Soil_pH  Soil_Moisture  Temperature_C  Rainfall_mm  \\\n",
       "0     0.786913       0.978762       0.583413     0.711566   \n",
       "1     0.368503       0.287389       0.716276     0.776084   \n",
       "2     0.211184       0.236702       0.133315     0.364381   \n",
       "3     0.672637       0.449375       0.109430     0.427093   \n",
       "4     0.717168       0.590990       0.430197     0.111330   \n",
       "...        ...            ...            ...          ...   \n",
       "9995  0.568850       0.143051       0.866538     0.868128   \n",
       "9996  0.375853       0.053980       0.416215     0.335518   \n",
       "9997  0.769540       0.004005       0.420003     0.334753   \n",
       "9998  0.073663       0.465858       0.806127     0.208587   \n",
       "9999  0.566594       0.554348       0.453497     0.077734   \n",
       "\n",
       "      Fertilizer_Usage_kg  Pesticide_Usage_kg  Crop_Yield_ton  \\\n",
       "0                0.544626            0.103004        0.064071   \n",
       "1                0.575814            0.958188        0.313842   \n",
       "2                0.331486            0.528468        0.014765   \n",
       "3                0.965601            0.410833        0.874535   \n",
       "4                0.048430            0.144553        0.864399   \n",
       "...                   ...                 ...             ...   \n",
       "9995             0.261324            0.658669        0.568718   \n",
       "9996             0.284483            0.118746        0.976864   \n",
       "9997             0.361208            0.731766        0.291438   \n",
       "9998             0.057535            0.600966        0.622828   \n",
       "9999             0.760567            0.244162        0.470112   \n",
       "\n",
       "      Sustainability_Score  \n",
       "0                 0.519147  \n",
       "1                 0.471597  \n",
       "2                 0.501493  \n",
       "3                 0.897691  \n",
       "4                 0.510349  \n",
       "...                    ...  \n",
       "9995              0.085758  \n",
       "9996              0.965667  \n",
       "9997              0.516592  \n",
       "9998              0.165359  \n",
       "9999              0.763242  \n",
       "\n",
       "[10000 rows x 8 columns]"
      ]
     },
     "execution_count": 7,
     "metadata": {},
     "output_type": "execute_result"
    }
   ],
   "source": [
    "normalized_df"
   ]
  },
  {
   "cell_type": "code",
   "execution_count": 25,
   "metadata": {},
   "outputs": [],
   "source": [
    "distortions = []\n",
    "inertias = []\n",
    "mapping1 = {}\n",
    "mapping2 = {}\n",
    "K = range(1, 50)\n",
    "\n",
    "# Fit K-means for different values of k\n",
    "for k in K:\n",
    "    kmeanModel = KMeans(n_clusters=k, random_state=42).fit(normalized_df)\n",
    "    \n",
    "    # Calculate distortion as the average squared distance from points to their cluster centers\n",
    "    distortions.append(sum(np.min(cdist(normalized_df, kmeanModel.cluster_centers_, 'euclidean'), axis=1)**2) / normalized_df.shape[0])\n",
    "    \n",
    "    # Inertia is calculated directly by KMeans\n",
    "    inertias.append(kmeanModel.inertia_)\n",
    "    \n",
    "    # Store the mappings for easy access\n",
    "    mapping1[k] = distortions[-1]\n",
    "    mapping2[k] = inertias[-1]"
   ]
  },
  {
   "cell_type": "code",
   "execution_count": 26,
   "metadata": {},
   "outputs": [
    {
     "name": "stdout",
     "output_type": "stream",
     "text": [
      "Distortion values:\n"
     ]
    },
    {
     "data": {
      "image/png": "[encoded data removed]",
      "text/plain": [
       "<Figure size 640x480 with 1 Axes>"
      ]
     },
     "metadata": {},
     "output_type": "display_data"
    }
   ],
   "source": [
    "print(\"Distortion values:\")\n",
    "# for key, val in mapping1.items():\n",
    "#     print(f'{key} : {val}')\n",
    "# Plotting the graph of k versus Distortion\n",
    "plt.plot(K, distortions, 'bx-')\n",
    "plt.xlabel('Number of Clusters (k)')\n",
    "plt.ylabel('Distortion')\n",
    "plt.title('The Elbow Method using Distortion')\n",
    "plt.grid()\n",
    "plt.show()"
   ]
  },
  {
   "cell_type": "code",
   "execution_count": 19,
   "metadata": {},
   "outputs": [
    {
     "name": "stdout",
     "output_type": "stream",
     "text": [
      "Inertia values:\n"
     ]
    },
    {
     "data": {
      "image/png": "[encoded data removed]",
      "text/plain": [
       "<Figure size 640x480 with 1 Axes>"
      ]
     },
     "metadata": {},
     "output_type": "display_data"
    }
   ],
   "source": [
    "print(\"Inertia values:\")\n",
    "# for key, val in mapping2.items():\n",
    "#     print(f'{key} : {val}')\n",
    "# Plotting the graph of k versus Inertia\n",
    "plt.plot(K, inertias, 'bx-')\n",
    "plt.xlabel('Number of Clusters (k)')\n",
    "plt.ylabel('Inertia')\n",
    "plt.title('The Elbow Method using Inertia')\n",
    "plt.grid()\n",
    "plt.show()\n"
   ]
  },
  {
   "cell_type": "code",
   "execution_count": 20,
   "metadata": {},
   "outputs": [],
   "source": [
    "kmeanModel = KMeans(n_clusters=15, random_state=42).fit(normalized_df)"
   ]
  },
  {
   "cell_type": "code",
   "execution_count": null,
   "metadata": {},
   "outputs": [],
   "source": [
    "normalized_df.iloc[0].to_numpy().reshape(1, -1)"
   ]
  },
  {
   "cell_type": "code",
   "execution_count": null,
   "metadata": {},
   "outputs": [],
   "source": [
    "normalized_df.loc[normalized_df['Crop_Type_Corn'] == 1.0]"
   ]
  },
  {
   "cell_type": "code",
   "execution_count": 22,
   "metadata": {},
   "outputs": [
    {
     "ename": "KeyError",
     "evalue": "'Crop_Type_Corn'",
     "output_type": "error",
     "traceback": [
      "\u001b[1;31m---------------------------------------------------------------------------\u001b[0m",
      "\u001b[1;31mKeyError\u001b[0m                                  Traceback (most recent call last)",
      "File \u001b[1;32mc:\\Users\\joshu\\anaconda3\\envs\\predictorEnv\\lib\\site-packages\\pandas\\core\\indexes\\base.py:3805\u001b[0m, in \u001b[0;36mIndex.get_loc\u001b[1;34m(self, key)\u001b[0m\n\u001b[0;32m   3804\u001b[0m \u001b[38;5;28;01mtry\u001b[39;00m:\n\u001b[1;32m-> 3805\u001b[0m     \u001b[38;5;28;01mreturn\u001b[39;00m \u001b[38;5;28;43mself\u001b[39;49m\u001b[38;5;241;43m.\u001b[39;49m\u001b[43m_engine\u001b[49m\u001b[38;5;241;43m.\u001b[39;49m\u001b[43mget_loc\u001b[49m\u001b[43m(\u001b[49m\u001b[43mcasted_key\u001b[49m\u001b[43m)\u001b[49m\n\u001b[0;32m   3806\u001b[0m \u001b[38;5;28;01mexcept\u001b[39;00m \u001b[38;5;167;01mKeyError\u001b[39;00m \u001b[38;5;28;01mas\u001b[39;00m err:\n",
      "File \u001b[1;32mindex.pyx:167\u001b[0m, in \u001b[0;36mpandas._libs.index.IndexEngine.get_loc\u001b[1;34m()\u001b[0m\n",
      "File \u001b[1;32mindex.pyx:196\u001b[0m, in \u001b[0;36mpandas._libs.index.IndexEngine.get_loc\u001b[1;34m()\u001b[0m\n",
      "File \u001b[1;32mpandas\\\\_libs\\\\hashtable_class_helper.pxi:7081\u001b[0m, in \u001b[0;36mpandas._libs.hashtable.PyObjectHashTable.get_item\u001b[1;34m()\u001b[0m\n",
      "File \u001b[1;32mpandas\\\\_libs\\\\hashtable_class_helper.pxi:7089\u001b[0m, in \u001b[0;36mpandas._libs.hashtable.PyObjectHashTable.get_item\u001b[1;34m()\u001b[0m\n",
      "\u001b[1;31mKeyError\u001b[0m: 'Crop_Type_Corn'",
      "\nThe above exception was the direct cause of the following exception:\n",
      "\u001b[1;31mKeyError\u001b[0m                                  Traceback (most recent call last)",
      "Cell \u001b[1;32mIn[22], line 1\u001b[0m\n\u001b[1;32m----> 1\u001b[0m \u001b[38;5;28;01mfor\u001b[39;00m index, row \u001b[38;5;129;01min\u001b[39;00m normalized_df\u001b[38;5;241m.\u001b[39mloc[\u001b[43mnormalized_df\u001b[49m\u001b[43m[\u001b[49m\u001b[38;5;124;43m'\u001b[39;49m\u001b[38;5;124;43mCrop_Type_Corn\u001b[39;49m\u001b[38;5;124;43m'\u001b[39;49m\u001b[43m]\u001b[49m \u001b[38;5;241m==\u001b[39m \u001b[38;5;241m1.0\u001b[39m]\u001b[38;5;241m.\u001b[39miterrows():\n\u001b[0;32m      2\u001b[0m     \u001b[38;5;66;03m# print(row)\u001b[39;00m\n\u001b[0;32m      3\u001b[0m     \u001b[38;5;28mprint\u001b[39m(kmeanModel\u001b[38;5;241m.\u001b[39mpredict(row\u001b[38;5;241m.\u001b[39mto_numpy()\u001b[38;5;241m.\u001b[39mreshape(\u001b[38;5;241m1\u001b[39m, \u001b[38;5;241m-\u001b[39m\u001b[38;5;241m1\u001b[39m)))\n",
      "File \u001b[1;32mc:\\Users\\joshu\\anaconda3\\envs\\predictorEnv\\lib\\site-packages\\pandas\\core\\frame.py:4102\u001b[0m, in \u001b[0;36mDataFrame.__getitem__\u001b[1;34m(self, key)\u001b[0m\n\u001b[0;32m   4100\u001b[0m \u001b[38;5;28;01mif\u001b[39;00m \u001b[38;5;28mself\u001b[39m\u001b[38;5;241m.\u001b[39mcolumns\u001b[38;5;241m.\u001b[39mnlevels \u001b[38;5;241m>\u001b[39m \u001b[38;5;241m1\u001b[39m:\n\u001b[0;32m   4101\u001b[0m     \u001b[38;5;28;01mreturn\u001b[39;00m \u001b[38;5;28mself\u001b[39m\u001b[38;5;241m.\u001b[39m_getitem_multilevel(key)\n\u001b[1;32m-> 4102\u001b[0m indexer \u001b[38;5;241m=\u001b[39m \u001b[38;5;28;43mself\u001b[39;49m\u001b[38;5;241;43m.\u001b[39;49m\u001b[43mcolumns\u001b[49m\u001b[38;5;241;43m.\u001b[39;49m\u001b[43mget_loc\u001b[49m\u001b[43m(\u001b[49m\u001b[43mkey\u001b[49m\u001b[43m)\u001b[49m\n\u001b[0;32m   4103\u001b[0m \u001b[38;5;28;01mif\u001b[39;00m is_integer(indexer):\n\u001b[0;32m   4104\u001b[0m     indexer \u001b[38;5;241m=\u001b[39m [indexer]\n",
      "File \u001b[1;32mc:\\Users\\joshu\\anaconda3\\envs\\predictorEnv\\lib\\site-packages\\pandas\\core\\indexes\\base.py:3812\u001b[0m, in \u001b[0;36mIndex.get_loc\u001b[1;34m(self, key)\u001b[0m\n\u001b[0;32m   3807\u001b[0m     \u001b[38;5;28;01mif\u001b[39;00m \u001b[38;5;28misinstance\u001b[39m(casted_key, \u001b[38;5;28mslice\u001b[39m) \u001b[38;5;129;01mor\u001b[39;00m (\n\u001b[0;32m   3808\u001b[0m         \u001b[38;5;28misinstance\u001b[39m(casted_key, abc\u001b[38;5;241m.\u001b[39mIterable)\n\u001b[0;32m   3809\u001b[0m         \u001b[38;5;129;01mand\u001b[39;00m \u001b[38;5;28many\u001b[39m(\u001b[38;5;28misinstance\u001b[39m(x, \u001b[38;5;28mslice\u001b[39m) \u001b[38;5;28;01mfor\u001b[39;00m x \u001b[38;5;129;01min\u001b[39;00m casted_key)\n\u001b[0;32m   3810\u001b[0m     ):\n\u001b[0;32m   3811\u001b[0m         \u001b[38;5;28;01mraise\u001b[39;00m InvalidIndexError(key)\n\u001b[1;32m-> 3812\u001b[0m     \u001b[38;5;28;01mraise\u001b[39;00m \u001b[38;5;167;01mKeyError\u001b[39;00m(key) \u001b[38;5;28;01mfrom\u001b[39;00m \u001b[38;5;21;01merr\u001b[39;00m\n\u001b[0;32m   3813\u001b[0m \u001b[38;5;28;01mexcept\u001b[39;00m \u001b[38;5;167;01mTypeError\u001b[39;00m:\n\u001b[0;32m   3814\u001b[0m     \u001b[38;5;66;03m# If we have a listlike key, _check_indexing_error will raise\u001b[39;00m\n\u001b[0;32m   3815\u001b[0m     \u001b[38;5;66;03m#  InvalidIndexError. Otherwise we fall through and re-raise\u001b[39;00m\n\u001b[0;32m   3816\u001b[0m     \u001b[38;5;66;03m#  the TypeError.\u001b[39;00m\n\u001b[0;32m   3817\u001b[0m     \u001b[38;5;28mself\u001b[39m\u001b[38;5;241m.\u001b[39m_check_indexing_error(key)\n",
      "\u001b[1;31mKeyError\u001b[0m: 'Crop_Type_Corn'"
     ]
    }
   ],
   "source": [
    "for index, row in normalized_df.loc[normalized_df['Crop_Type_Corn'] == 1.0].iterrows():\n",
    "    # print(row)\n",
    "    print(kmeanModel.predict(row.to_numpy().reshape(1, -1)))\n"
   ]
  },
  {
   "cell_type": "code",
   "execution_count": null,
   "metadata": {},
   "outputs": [],
   "source": []
  },
  {
   "cell_type": "code",
   "execution_count": null,
   "metadata": {},
   "outputs": [],
   "source": [
    "kmeanModel.predict(normalized_df.iloc[1].to_numpy().reshape(1, -1))"
   ]
  },
  {
   "cell_type": "code",
   "execution_count": null,
   "metadata": {},
   "outputs": [],
   "source": [
    "kmeanModel.predict(normalized_df.iloc[2].to_numpy().reshape(1, -1))"
   ]
  },
  {
   "cell_type": "code",
   "execution_count": null,
   "metadata": {},
   "outputs": [],
   "source": [
    "kmeanModel.predict(normalized_df.iloc[3].to_numpy().reshape(1, -1))"
   ]
  }
 ],
 "metadata": {
  "kernelspec": {
   "display_name": "predictorEnv",
   "language": "python",
   "name": "python3"
  },
  "language_info": {
   "codemirror_mode": {
    "name": "ipython",
    "version": 3
   },
   "file_extension": ".py",
   "mimetype": "text/x-python",
   "name": "python",
   "nbconvert_exporter": "python",
   "pygments_lexer": "ipython3",
   "version": "3.10.13"
  }
 },
 "nbformat": 4,
 "nbformat_minor": 2
}
