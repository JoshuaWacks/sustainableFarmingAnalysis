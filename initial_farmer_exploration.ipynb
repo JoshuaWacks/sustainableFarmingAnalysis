{
 "cells": [
  {
   "cell_type": "code",
   "execution_count": 19,
   "metadata": {},
   "outputs": [],
   "source": [
    "import pandas as pd\n",
    "import numpy as np"
   ]
  },
  {
   "cell_type": "code",
   "execution_count": 7,
   "metadata": {},
   "outputs": [],
   "source": [
    "farmer_df = pd.read_csv('./data/farmer_advisor_dataset.csv')"
   ]
  },
  {
   "cell_type": "markdown",
   "metadata": {},
   "source": [
    "Analysing Farmer Advisor DF"
   ]
  },
  {
   "cell_type": "code",
   "execution_count": 8,
   "metadata": {},
   "outputs": [
    {
     "data": {
      "text/html": [
       "<div>\n",
       "<style scoped>\n",
       "    .dataframe tbody tr th:only-of-type {\n",
       "        vertical-align: middle;\n",
       "    }\n",
       "\n",
       "    .dataframe tbody tr th {\n",
       "        vertical-align: top;\n",
       "    }\n",
       "\n",
       "    .dataframe thead th {\n",
       "        text-align: right;\n",
       "    }\n",
       "</style>\n",
       "<table border=\"1\" class=\"dataframe\">\n",
       "  <thead>\n",
       "    <tr style=\"text-align: right;\">\n",
       "      <th></th>\n",
       "      <th>Farm_ID</th>\n",
       "      <th>Soil_pH</th>\n",
       "      <th>Soil_Moisture</th>\n",
       "      <th>Temperature_C</th>\n",
       "      <th>Rainfall_mm</th>\n",
       "      <th>Crop_Type</th>\n",
       "      <th>Fertilizer_Usage_kg</th>\n",
       "      <th>Pesticide_Usage_kg</th>\n",
       "      <th>Crop_Yield_ton</th>\n",
       "      <th>Sustainability_Score</th>\n",
       "    </tr>\n",
       "  </thead>\n",
       "  <tbody>\n",
       "    <tr>\n",
       "      <th>0</th>\n",
       "      <td>1</td>\n",
       "      <td>7.073643</td>\n",
       "      <td>49.145359</td>\n",
       "      <td>26.668157</td>\n",
       "      <td>227.890912</td>\n",
       "      <td>Wheat</td>\n",
       "      <td>131.692844</td>\n",
       "      <td>2.958215</td>\n",
       "      <td>1.576920</td>\n",
       "      <td>51.913649</td>\n",
       "    </tr>\n",
       "    <tr>\n",
       "      <th>1</th>\n",
       "      <td>2</td>\n",
       "      <td>6.236931</td>\n",
       "      <td>21.496115</td>\n",
       "      <td>29.325342</td>\n",
       "      <td>244.017493</td>\n",
       "      <td>Soybean</td>\n",
       "      <td>136.370492</td>\n",
       "      <td>19.204770</td>\n",
       "      <td>3.824686</td>\n",
       "      <td>47.159077</td>\n",
       "    </tr>\n",
       "    <tr>\n",
       "      <th>2</th>\n",
       "      <td>3</td>\n",
       "      <td>5.922335</td>\n",
       "      <td>19.469042</td>\n",
       "      <td>17.666414</td>\n",
       "      <td>141.110521</td>\n",
       "      <td>Corn</td>\n",
       "      <td>99.725210</td>\n",
       "      <td>11.041066</td>\n",
       "      <td>1.133198</td>\n",
       "      <td>50.148418</td>\n",
       "    </tr>\n",
       "    <tr>\n",
       "      <th>3</th>\n",
       "      <td>4</td>\n",
       "      <td>6.845120</td>\n",
       "      <td>27.974234</td>\n",
       "      <td>17.188722</td>\n",
       "      <td>156.785663</td>\n",
       "      <td>Wheat</td>\n",
       "      <td>194.832396</td>\n",
       "      <td>8.806271</td>\n",
       "      <td>8.870540</td>\n",
       "      <td>89.764557</td>\n",
       "    </tr>\n",
       "    <tr>\n",
       "      <th>4</th>\n",
       "      <td>5</td>\n",
       "      <td>6.934171</td>\n",
       "      <td>33.637679</td>\n",
       "      <td>23.603899</td>\n",
       "      <td>77.859362</td>\n",
       "      <td>Corn</td>\n",
       "      <td>57.271267</td>\n",
       "      <td>3.747553</td>\n",
       "      <td>8.779317</td>\n",
       "      <td>51.033941</td>\n",
       "    </tr>\n",
       "  </tbody>\n",
       "</table>\n",
       "</div>"
      ],
      "text/plain": [
       "   Farm_ID   Soil_pH  Soil_Moisture  Temperature_C  Rainfall_mm Crop_Type  \\\n",
       "0        1  7.073643      49.145359      26.668157   227.890912     Wheat   \n",
       "1        2  6.236931      21.496115      29.325342   244.017493   Soybean   \n",
       "2        3  5.922335      19.469042      17.666414   141.110521      Corn   \n",
       "3        4  6.845120      27.974234      17.188722   156.785663     Wheat   \n",
       "4        5  6.934171      33.637679      23.603899    77.859362      Corn   \n",
       "\n",
       "   Fertilizer_Usage_kg  Pesticide_Usage_kg  Crop_Yield_ton  \\\n",
       "0           131.692844            2.958215        1.576920   \n",
       "1           136.370492           19.204770        3.824686   \n",
       "2            99.725210           11.041066        1.133198   \n",
       "3           194.832396            8.806271        8.870540   \n",
       "4            57.271267            3.747553        8.779317   \n",
       "\n",
       "   Sustainability_Score  \n",
       "0             51.913649  \n",
       "1             47.159077  \n",
       "2             50.148418  \n",
       "3             89.764557  \n",
       "4             51.033941  "
      ]
     },
     "execution_count": 8,
     "metadata": {},
     "output_type": "execute_result"
    }
   ],
   "source": [
    "farmer_df.head()"
   ]
  },
  {
   "cell_type": "markdown",
   "metadata": {},
   "source": [
    "Basic analysis"
   ]
  },
  {
   "cell_type": "code",
   "execution_count": 9,
   "metadata": {},
   "outputs": [
    {
     "name": "stdout",
     "output_type": "stream",
     "text": [
      "Index(['Farm_ID', 'Soil_pH', 'Soil_Moisture', 'Temperature_C', 'Rainfall_mm',\n",
      "       'Crop_Type', 'Fertilizer_Usage_kg', 'Pesticide_Usage_kg',\n",
      "       'Crop_Yield_ton', 'Sustainability_Score'],\n",
      "      dtype='object')\n"
     ]
    }
   ],
   "source": [
    "print(farmer_df.columns)"
   ]
  },
  {
   "cell_type": "code",
   "execution_count": 10,
   "metadata": {},
   "outputs": [
    {
     "data": {
      "text/html": [
       "<div>\n",
       "<style scoped>\n",
       "    .dataframe tbody tr th:only-of-type {\n",
       "        vertical-align: middle;\n",
       "    }\n",
       "\n",
       "    .dataframe tbody tr th {\n",
       "        vertical-align: top;\n",
       "    }\n",
       "\n",
       "    .dataframe thead th {\n",
       "        text-align: right;\n",
       "    }\n",
       "</style>\n",
       "<table border=\"1\" class=\"dataframe\">\n",
       "  <thead>\n",
       "    <tr style=\"text-align: right;\">\n",
       "      <th></th>\n",
       "      <th>Farm_ID</th>\n",
       "      <th>Soil_pH</th>\n",
       "      <th>Soil_Moisture</th>\n",
       "      <th>Temperature_C</th>\n",
       "      <th>Rainfall_mm</th>\n",
       "      <th>Fertilizer_Usage_kg</th>\n",
       "      <th>Pesticide_Usage_kg</th>\n",
       "      <th>Crop_Yield_ton</th>\n",
       "      <th>Sustainability_Score</th>\n",
       "    </tr>\n",
       "  </thead>\n",
       "  <tbody>\n",
       "    <tr>\n",
       "      <th>count</th>\n",
       "      <td>10000.00000</td>\n",
       "      <td>10000.000000</td>\n",
       "      <td>10000.000000</td>\n",
       "      <td>10000.000000</td>\n",
       "      <td>10000.000000</td>\n",
       "      <td>10000.000000</td>\n",
       "      <td>10000.000000</td>\n",
       "      <td>10000.000000</td>\n",
       "      <td>10000.000000</td>\n",
       "    </tr>\n",
       "    <tr>\n",
       "      <th>mean</th>\n",
       "      <td>5000.50000</td>\n",
       "      <td>6.499494</td>\n",
       "      <td>29.988655</td>\n",
       "      <td>25.027475</td>\n",
       "      <td>174.969854</td>\n",
       "      <td>125.212701</td>\n",
       "      <td>10.521074</td>\n",
       "      <td>5.489634</td>\n",
       "      <td>50.213200</td>\n",
       "    </tr>\n",
       "    <tr>\n",
       "      <th>std</th>\n",
       "      <td>2886.89568</td>\n",
       "      <td>0.574181</td>\n",
       "      <td>11.493376</td>\n",
       "      <td>5.769509</td>\n",
       "      <td>72.860989</td>\n",
       "      <td>43.132645</td>\n",
       "      <td>5.535558</td>\n",
       "      <td>2.608809</td>\n",
       "      <td>28.667146</td>\n",
       "    </tr>\n",
       "    <tr>\n",
       "      <th>min</th>\n",
       "      <td>1.00000</td>\n",
       "      <td>5.500021</td>\n",
       "      <td>10.002907</td>\n",
       "      <td>15.000186</td>\n",
       "      <td>50.031967</td>\n",
       "      <td>50.007543</td>\n",
       "      <td>1.001370</td>\n",
       "      <td>1.000323</td>\n",
       "      <td>0.003672</td>\n",
       "    </tr>\n",
       "    <tr>\n",
       "      <th>25%</th>\n",
       "      <td>2500.75000</td>\n",
       "      <td>6.003992</td>\n",
       "      <td>20.027802</td>\n",
       "      <td>20.078612</td>\n",
       "      <td>111.786631</td>\n",
       "      <td>87.945625</td>\n",
       "      <td>5.675684</td>\n",
       "      <td>3.218402</td>\n",
       "      <td>25.974568</td>\n",
       "    </tr>\n",
       "    <tr>\n",
       "      <th>50%</th>\n",
       "      <td>5000.50000</td>\n",
       "      <td>6.495380</td>\n",
       "      <td>29.862527</td>\n",
       "      <td>24.955117</td>\n",
       "      <td>174.468002</td>\n",
       "      <td>125.188012</td>\n",
       "      <td>10.619785</td>\n",
       "      <td>5.490626</td>\n",
       "      <td>50.234210</td>\n",
       "    </tr>\n",
       "    <tr>\n",
       "      <th>75%</th>\n",
       "      <td>7500.25000</td>\n",
       "      <td>6.993481</td>\n",
       "      <td>40.052369</td>\n",
       "      <td>30.053313</td>\n",
       "      <td>237.812507</td>\n",
       "      <td>162.619398</td>\n",
       "      <td>15.330758</td>\n",
       "      <td>7.740585</td>\n",
       "      <td>74.938267</td>\n",
       "    </tr>\n",
       "    <tr>\n",
       "      <th>max</th>\n",
       "      <td>10000.00000</td>\n",
       "      <td>7.499762</td>\n",
       "      <td>49.994713</td>\n",
       "      <td>34.999673</td>\n",
       "      <td>299.986192</td>\n",
       "      <td>199.991631</td>\n",
       "      <td>19.999099</td>\n",
       "      <td>9.999638</td>\n",
       "      <td>99.994545</td>\n",
       "    </tr>\n",
       "  </tbody>\n",
       "</table>\n",
       "</div>"
      ],
      "text/plain": [
       "           Farm_ID       Soil_pH  Soil_Moisture  Temperature_C   Rainfall_mm  \\\n",
       "count  10000.00000  10000.000000   10000.000000   10000.000000  10000.000000   \n",
       "mean    5000.50000      6.499494      29.988655      25.027475    174.969854   \n",
       "std     2886.89568      0.574181      11.493376       5.769509     72.860989   \n",
       "min        1.00000      5.500021      10.002907      15.000186     50.031967   \n",
       "25%     2500.75000      6.003992      20.027802      20.078612    111.786631   \n",
       "50%     5000.50000      6.495380      29.862527      24.955117    174.468002   \n",
       "75%     7500.25000      6.993481      40.052369      30.053313    237.812507   \n",
       "max    10000.00000      7.499762      49.994713      34.999673    299.986192   \n",
       "\n",
       "       Fertilizer_Usage_kg  Pesticide_Usage_kg  Crop_Yield_ton  \\\n",
       "count         10000.000000        10000.000000    10000.000000   \n",
       "mean            125.212701           10.521074        5.489634   \n",
       "std              43.132645            5.535558        2.608809   \n",
       "min              50.007543            1.001370        1.000323   \n",
       "25%              87.945625            5.675684        3.218402   \n",
       "50%             125.188012           10.619785        5.490626   \n",
       "75%             162.619398           15.330758        7.740585   \n",
       "max             199.991631           19.999099        9.999638   \n",
       "\n",
       "       Sustainability_Score  \n",
       "count          10000.000000  \n",
       "mean              50.213200  \n",
       "std               28.667146  \n",
       "min                0.003672  \n",
       "25%               25.974568  \n",
       "50%               50.234210  \n",
       "75%               74.938267  \n",
       "max               99.994545  "
      ]
     },
     "execution_count": 10,
     "metadata": {},
     "output_type": "execute_result"
    }
   ],
   "source": [
    "farmer_df.describe()"
   ]
  },
  {
   "cell_type": "code",
   "execution_count": 12,
   "metadata": {},
   "outputs": [
    {
     "data": {
      "text/plain": [
       "array(['Wheat', 'Soybean', 'Corn', 'Rice'], dtype=object)"
      ]
     },
     "execution_count": 12,
     "metadata": {},
     "output_type": "execute_result"
    }
   ],
   "source": [
    "farmer_df['Crop_Type'].unique()"
   ]
  },
  {
   "cell_type": "code",
   "execution_count": 13,
   "metadata": {},
   "outputs": [
    {
     "name": "stdout",
     "output_type": "stream",
     "text": [
      "<class 'pandas.core.frame.DataFrame'>\n",
      "RangeIndex: 10000 entries, 0 to 9999\n",
      "Data columns (total 10 columns):\n",
      " #   Column                Non-Null Count  Dtype  \n",
      "---  ------                --------------  -----  \n",
      " 0   Farm_ID               10000 non-null  int64  \n",
      " 1   Soil_pH               10000 non-null  float64\n",
      " 2   Soil_Moisture         10000 non-null  float64\n",
      " 3   Temperature_C         10000 non-null  float64\n",
      " 4   Rainfall_mm           10000 non-null  float64\n",
      " 5   Crop_Type             10000 non-null  object \n",
      " 6   Fertilizer_Usage_kg   10000 non-null  float64\n",
      " 7   Pesticide_Usage_kg    10000 non-null  float64\n",
      " 8   Crop_Yield_ton        10000 non-null  float64\n",
      " 9   Sustainability_Score  10000 non-null  float64\n",
      "dtypes: float64(8), int64(1), object(1)\n",
      "memory usage: 781.4+ KB\n"
     ]
    }
   ],
   "source": [
    "farmer_df.info()"
   ]
  },
  {
   "cell_type": "markdown",
   "metadata": {},
   "source": [
    "Missing Data"
   ]
  },
  {
   "cell_type": "code",
   "execution_count": 15,
   "metadata": {},
   "outputs": [
    {
     "name": "stdout",
     "output_type": "stream",
     "text": [
      "Farm_ID                 0\n",
      "Soil_pH                 0\n",
      "Soil_Moisture           0\n",
      "Temperature_C           0\n",
      "Rainfall_mm             0\n",
      "Crop_Type               0\n",
      "Fertilizer_Usage_kg     0\n",
      "Pesticide_Usage_kg      0\n",
      "Crop_Yield_ton          0\n",
      "Sustainability_Score    0\n",
      "dtype: int64\n"
     ]
    }
   ],
   "source": [
    "missing_values = farmer_df.isnull().sum()\n",
    "print(missing_values)"
   ]
  },
  {
   "cell_type": "markdown",
   "metadata": {},
   "source": [
    "Duplicate Data"
   ]
  },
  {
   "cell_type": "code",
   "execution_count": 16,
   "metadata": {},
   "outputs": [
    {
     "data": {
      "text/html": [
       "<div>\n",
       "<style scoped>\n",
       "    .dataframe tbody tr th:only-of-type {\n",
       "        vertical-align: middle;\n",
       "    }\n",
       "\n",
       "    .dataframe tbody tr th {\n",
       "        vertical-align: top;\n",
       "    }\n",
       "\n",
       "    .dataframe thead th {\n",
       "        text-align: right;\n",
       "    }\n",
       "</style>\n",
       "<table border=\"1\" class=\"dataframe\">\n",
       "  <thead>\n",
       "    <tr style=\"text-align: right;\">\n",
       "      <th></th>\n",
       "      <th>Farm_ID</th>\n",
       "      <th>Soil_pH</th>\n",
       "      <th>Soil_Moisture</th>\n",
       "      <th>Temperature_C</th>\n",
       "      <th>Rainfall_mm</th>\n",
       "      <th>Crop_Type</th>\n",
       "      <th>Fertilizer_Usage_kg</th>\n",
       "      <th>Pesticide_Usage_kg</th>\n",
       "      <th>Crop_Yield_ton</th>\n",
       "      <th>Sustainability_Score</th>\n",
       "    </tr>\n",
       "  </thead>\n",
       "  <tbody>\n",
       "  </tbody>\n",
       "</table>\n",
       "</div>"
      ],
      "text/plain": [
       "Empty DataFrame\n",
       "Columns: [Farm_ID, Soil_pH, Soil_Moisture, Temperature_C, Rainfall_mm, Crop_Type, Fertilizer_Usage_kg, Pesticide_Usage_kg, Crop_Yield_ton, Sustainability_Score]\n",
       "Index: []"
      ]
     },
     "execution_count": 16,
     "metadata": {},
     "output_type": "execute_result"
    }
   ],
   "source": [
    "farmer_df[farmer_df.duplicated(keep=False)]"
   ]
  },
  {
   "cell_type": "markdown",
   "metadata": {},
   "source": [
    "No missing or duplicate values"
   ]
  },
  {
   "cell_type": "markdown",
   "metadata": {},
   "source": [
    "Correlation Matrix"
   ]
  },
  {
   "cell_type": "code",
   "execution_count": 27,
   "metadata": {},
   "outputs": [
    {
     "name": "stdout",
     "output_type": "stream",
     "text": [
      "                       Soil_pH  Soil_Moisture  Temperature_C  Rainfall_mm  \\\n",
      "Soil_pH               1.000000      -0.011419       0.022694     0.011924   \n",
      "Soil_Moisture        -0.011419       1.000000      -0.014420     0.002495   \n",
      "Temperature_C         0.022694      -0.014420       1.000000    -0.008471   \n",
      "Rainfall_mm           0.011924       0.002495      -0.008471     1.000000   \n",
      "Fertilizer_Usage_kg  -0.011042      -0.000599      -0.003177    -0.004065   \n",
      "Pesticide_Usage_kg    0.013043      -0.008233      -0.012004    -0.027337   \n",
      "Crop_Yield_ton        0.006391       0.022830      -0.028832    -0.003775   \n",
      "Sustainability_Score  0.016798      -0.000584       0.021314     0.007135   \n",
      "\n",
      "                      Fertilizer_Usage_kg  Pesticide_Usage_kg  Crop_Yield_ton  \\\n",
      "Soil_pH                         -0.011042            0.013043        0.006391   \n",
      "Soil_Moisture                   -0.000599           -0.008233        0.022830   \n",
      "Temperature_C                   -0.003177           -0.012004       -0.028832   \n",
      "Rainfall_mm                     -0.004065           -0.027337       -0.003775   \n",
      "Fertilizer_Usage_kg              1.000000            0.003329        0.001219   \n",
      "Pesticide_Usage_kg               0.003329            1.000000        0.007202   \n",
      "Crop_Yield_ton                   0.001219            0.007202        1.000000   \n",
      "Sustainability_Score             0.010027           -0.010203       -0.004034   \n",
      "\n",
      "                      Sustainability_Score  \n",
      "Soil_pH                           0.016798  \n",
      "Soil_Moisture                    -0.000584  \n",
      "Temperature_C                     0.021314  \n",
      "Rainfall_mm                       0.007135  \n",
      "Fertilizer_Usage_kg               0.010027  \n",
      "Pesticide_Usage_kg               -0.010203  \n",
      "Crop_Yield_ton                   -0.004034  \n",
      "Sustainability_Score              1.000000  \n"
     ]
    }
   ],
   "source": [
    "numeric_columns = farmer_df.select_dtypes(include=[np.number]).columns\n",
    "numeric_columns = numeric_columns.drop('Farm_ID')\n",
    "corr_matrix = farmer_df[numeric_columns].corr()\n",
    "print(corr_matrix)"
   ]
  }
 ],
 "metadata": {
  "kernelspec": {
   "display_name": "predictorEnv",
   "language": "python",
   "name": "python3"
  },
  "language_info": {
   "codemirror_mode": {
    "name": "ipython",
    "version": 3
   },
   "file_extension": ".py",
   "mimetype": "text/x-python",
   "name": "python",
   "nbconvert_exporter": "python",
   "pygments_lexer": "ipython3",
   "version": "3.10.13"
  }
 },
 "nbformat": 4,
 "nbformat_minor": 2
}
