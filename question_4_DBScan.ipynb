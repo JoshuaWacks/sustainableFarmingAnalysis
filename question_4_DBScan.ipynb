{
 "cells": [
  {
   "cell_type": "code",
   "execution_count": 1,
   "metadata": {},
   "outputs": [],
   "source": [
    "import pandas as pd\n",
    "import numpy as np\n",
    "import matplotlib.pyplot as plt\n",
    "import seaborn as sns\n",
    "from sklearn.preprocessing import OneHotEncoder\n",
    "from sklearn import metrics\n",
    "from sklearn.cluster import DBSCAN"
   ]
  },
  {
   "cell_type": "code",
   "execution_count": 2,
   "metadata": {},
   "outputs": [],
   "source": [
    "farmer_df = pd.read_csv('./data/farmer_advisor_dataset.csv')\n",
    "farmer_df = farmer_df.drop(columns=['Farm_ID','Crop_Type'])"
   ]
  },
  {
   "cell_type": "code",
   "execution_count": 3,
   "metadata": {},
   "outputs": [],
   "source": [
    "normalized_df=(farmer_df-farmer_df.min())/(farmer_df.max()-farmer_df.min())"
   ]
  },
  {
   "cell_type": "code",
   "execution_count": 4,
   "metadata": {},
   "outputs": [
    {
     "name": "stdout",
     "output_type": "stream",
     "text": [
      "0.1 10\n",
      "0.1 15\n",
      "0.1 20\n",
      "0.1 25\n",
      "0.1 30\n",
      "0.1 35\n",
      "0.1 40\n",
      "0.1 45\n",
      "0.1 50\n",
      "0.1 60\n",
      "0.1 80\n",
      "0.1 100\n",
      "0.15 10\n",
      "0.15 15\n",
      "0.15 20\n",
      "0.15 25\n",
      "0.15 30\n",
      "0.15 35\n",
      "0.15 40\n",
      "0.15 45\n",
      "0.15 50\n",
      "0.15 60\n",
      "0.15 80\n",
      "0.15 100\n",
      "0.2 10\n",
      "0.2 15\n",
      "0.2 20\n",
      "0.2 25\n",
      "0.2 30\n",
      "0.2 35\n",
      "0.2 40\n",
      "0.2 45\n",
      "0.2 50\n",
      "0.2 60\n",
      "0.2 80\n",
      "0.2 100\n",
      "0.25 10\n",
      "0.25 15\n",
      "0.25 20\n",
      "0.25 25\n",
      "0.25 30\n",
      "0.25 35\n",
      "0.25 40\n",
      "0.25 45\n",
      "0.25 50\n",
      "0.25 60\n",
      "0.25 80\n",
      "0.25 100\n",
      "0.3 10\n",
      "0.3 15\n",
      "0.3 20\n",
      "0.3 25\n",
      "0.3 30\n",
      "0.3 35\n",
      "0.3 40\n",
      "0.3 45\n",
      "0.3 50\n",
      "0.3 60\n",
      "0.3 80\n",
      "0.3 100\n",
      "0.35 10\n",
      "Silhouette Coefficient: -0.387\n",
      "0.35 15\n",
      "Silhouette Coefficient: -0.365\n",
      "0.35 20\n",
      "0.35 25\n",
      "0.35 30\n",
      "0.35 35\n",
      "0.35 40\n",
      "0.35 45\n",
      "0.35 50\n",
      "0.35 60\n",
      "0.35 80\n",
      "0.35 100\n",
      "0.4 10\n",
      "Silhouette Coefficient: 0.005\n",
      "0.4 15\n",
      "0.4 20\n",
      "0.4 25\n",
      "0.4 30\n",
      "0.4 35\n",
      "0.4 40\n",
      "0.4 45\n",
      "0.4 50\n",
      "0.4 60\n",
      "0.4 80\n",
      "0.4 100\n",
      "0.45 10\n",
      "0.45 15\n",
      "0.45 20\n",
      "0.45 25\n",
      "0.45 30\n",
      "0.45 35\n",
      "0.45 40\n",
      "0.45 45\n",
      "0.45 50\n",
      "0.45 60\n",
      "0.45 80\n",
      "0.45 100\n",
      "0.5 10\n",
      "0.5 15\n",
      "0.5 20\n",
      "0.5 25\n",
      "0.5 30\n",
      "0.5 35\n",
      "0.5 40\n",
      "0.5 45\n",
      "0.5 50\n",
      "0.5 60\n",
      "0.5 80\n",
      "0.5 100\n",
      "0.55 10\n",
      "0.55 15\n",
      "0.55 20\n",
      "0.55 25\n",
      "0.55 30\n",
      "0.55 35\n",
      "0.55 40\n",
      "0.55 45\n",
      "0.55 50\n",
      "0.55 60\n",
      "0.55 80\n",
      "0.55 100\n",
      "0.6 10\n",
      "0.6 15\n",
      "0.6 20\n",
      "0.6 25\n",
      "0.6 30\n",
      "0.6 35\n",
      "0.6 40\n",
      "0.6 45\n",
      "0.6 50\n",
      "0.6 60\n",
      "0.6 80\n",
      "0.6 100\n",
      "0.65 10\n",
      "0.65 15\n",
      "0.65 20\n",
      "0.65 25\n",
      "0.65 30\n",
      "0.65 35\n",
      "0.65 40\n",
      "0.65 45\n",
      "0.65 50\n",
      "0.65 60\n",
      "0.65 80\n",
      "0.65 100\n"
     ]
    }
   ],
   "source": [
    "best_sil_coef = -1000\n",
    "best_vals = [0.1,10]\n",
    "\n",
    "for eps in [0.1,0.15,0.2,0.25,0.3,0.35,0.4,0.45,0.5,0.55,0.60,0.65]:\n",
    "    for min_s in [10,15,20,25,30,35,40,45,50,60,80,100]:\n",
    "        print(eps,min_s)\n",
    "        db = DBSCAN(eps=eps, min_samples=min_s).fit(normalized_df)\n",
    "        labels = db.labels_\n",
    "\n",
    "        # Number of clusters in labels, ignoring noise if present.\n",
    "        n_clusters_ = len(set(labels)) - (1 if -1 in labels else 0)\n",
    "        n_noise_ = list(labels).count(-1)\n",
    "\n",
    "        if n_clusters_ == 0 or n_clusters_ == 1:\n",
    "            continue\n",
    "\n",
    "        if metrics.silhouette_score(normalized_df, labels) > best_sil_coef:\n",
    "            best_sil_coef = metrics.silhouette_score(normalized_df, labels)\n",
    "            best_vals[0] = eps\n",
    "            best_vals[1] = min_s\n",
    "            print(f\"Silhouette Coefficient: {metrics.silhouette_score(normalized_df, labels):.3f}\")\n",
    "\n",
    "        # print(\"Estimated number of clusters: %d\" % n_clusters_)\n",
    "        # print(\"Estimated number of noise points: %d\" % n_noise_)"
   ]
  },
  {
   "cell_type": "code",
   "execution_count": 7,
   "metadata": {},
   "outputs": [],
   "source": [
    "db = DBSCAN(eps=0.4, min_samples=10).fit(normalized_df)\n",
    "labels = db.labels_\n",
    "\n",
    "# Number of clusters in labels, ignoring noise if present.\n",
    "n_clusters_ = len(set(labels)) - (1 if -1 in labels else 0)\n",
    "n_noise_ = list(labels).count(-1)"
   ]
  },
  {
   "cell_type": "code",
   "execution_count": 8,
   "metadata": {},
   "outputs": [
    {
     "name": "stdout",
     "output_type": "stream",
     "text": [
      "Estimated number of clusters: 2\n",
      "Estimated number of noise points: 476\n"
     ]
    }
   ],
   "source": [
    "print(\"Estimated number of clusters: %d\" % n_clusters_)\n",
    "print(\"Estimated number of noise points: %d\" % n_noise_)"
   ]
  },
  {
   "cell_type": "code",
   "execution_count": 9,
   "metadata": {},
   "outputs": [
    {
     "data": {
      "text/plain": [
       "0.0053367215651868695"
      ]
     },
     "execution_count": 9,
     "metadata": {},
     "output_type": "execute_result"
    }
   ],
   "source": [
    "metrics.silhouette_score(normalized_df, labels)"
   ]
  },
  {
   "cell_type": "code",
   "execution_count": null,
   "metadata": {},
   "outputs": [],
   "source": []
  }
 ],
 "metadata": {
  "kernelspec": {
   "display_name": "predictorEnv",
   "language": "python",
   "name": "python3"
  },
  "language_info": {
   "codemirror_mode": {
    "name": "ipython",
    "version": 3
   },
   "file_extension": ".py",
   "mimetype": "text/x-python",
   "name": "python",
   "nbconvert_exporter": "python",
   "pygments_lexer": "ipython3",
   "version": "3.10.13"
  }
 },
 "nbformat": 4,
 "nbformat_minor": 2
}
