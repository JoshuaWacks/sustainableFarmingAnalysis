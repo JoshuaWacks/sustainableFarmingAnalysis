{
 "cells": [
  {
   "cell_type": "code",
   "execution_count": 1,
   "metadata": {},
   "outputs": [],
   "source": [
    "import pandas as pd\n",
    "import numpy as np"
   ]
  },
  {
   "cell_type": "code",
   "execution_count": 2,
   "metadata": {},
   "outputs": [],
   "source": [
    "market_df = pd.read_csv('./data/market_researcher_dataset.csv')"
   ]
  },
  {
   "cell_type": "code",
   "execution_count": 3,
   "metadata": {},
   "outputs": [
    {
     "data": {
      "text/html": [
       "<div>\n",
       "<style scoped>\n",
       "    .dataframe tbody tr th:only-of-type {\n",
       "        vertical-align: middle;\n",
       "    }\n",
       "\n",
       "    .dataframe tbody tr th {\n",
       "        vertical-align: top;\n",
       "    }\n",
       "\n",
       "    .dataframe thead th {\n",
       "        text-align: right;\n",
       "    }\n",
       "</style>\n",
       "<table border=\"1\" class=\"dataframe\">\n",
       "  <thead>\n",
       "    <tr style=\"text-align: right;\">\n",
       "      <th></th>\n",
       "      <th>Market_ID</th>\n",
       "      <th>Product</th>\n",
       "      <th>Market_Price_per_ton</th>\n",
       "      <th>Demand_Index</th>\n",
       "      <th>Supply_Index</th>\n",
       "      <th>Competitor_Price_per_ton</th>\n",
       "      <th>Economic_Indicator</th>\n",
       "      <th>Weather_Impact_Score</th>\n",
       "      <th>Seasonal_Factor</th>\n",
       "      <th>Consumer_Trend_Index</th>\n",
       "    </tr>\n",
       "  </thead>\n",
       "  <tbody>\n",
       "    <tr>\n",
       "      <th>0</th>\n",
       "      <td>1</td>\n",
       "      <td>Rice</td>\n",
       "      <td>180.251212</td>\n",
       "      <td>196.085900</td>\n",
       "      <td>199.509124</td>\n",
       "      <td>300.549219</td>\n",
       "      <td>1.093636</td>\n",
       "      <td>28.474810</td>\n",
       "      <td>Medium</td>\n",
       "      <td>148.472131</td>\n",
       "    </tr>\n",
       "    <tr>\n",
       "      <th>1</th>\n",
       "      <td>2</td>\n",
       "      <td>Rice</td>\n",
       "      <td>420.527970</td>\n",
       "      <td>188.452400</td>\n",
       "      <td>150.789483</td>\n",
       "      <td>492.097798</td>\n",
       "      <td>0.526307</td>\n",
       "      <td>70.978063</td>\n",
       "      <td>High</td>\n",
       "      <td>97.298888</td>\n",
       "    </tr>\n",
       "    <tr>\n",
       "      <th>2</th>\n",
       "      <td>3</td>\n",
       "      <td>Wheat</td>\n",
       "      <td>457.260398</td>\n",
       "      <td>171.179384</td>\n",
       "      <td>78.989326</td>\n",
       "      <td>323.003342</td>\n",
       "      <td>1.292393</td>\n",
       "      <td>80.853592</td>\n",
       "      <td>Low</td>\n",
       "      <td>131.113236</td>\n",
       "    </tr>\n",
       "    <tr>\n",
       "      <th>3</th>\n",
       "      <td>4</td>\n",
       "      <td>Soybean</td>\n",
       "      <td>237.179113</td>\n",
       "      <td>196.970677</td>\n",
       "      <td>50.464363</td>\n",
       "      <td>232.978384</td>\n",
       "      <td>0.627663</td>\n",
       "      <td>60.676069</td>\n",
       "      <td>Low</td>\n",
       "      <td>95.169417</td>\n",
       "    </tr>\n",
       "    <tr>\n",
       "      <th>4</th>\n",
       "      <td>5</td>\n",
       "      <td>Wheat</td>\n",
       "      <td>324.032925</td>\n",
       "      <td>113.165416</td>\n",
       "      <td>145.878647</td>\n",
       "      <td>312.428652</td>\n",
       "      <td>1.491255</td>\n",
       "      <td>45.379516</td>\n",
       "      <td>Low</td>\n",
       "      <td>130.297138</td>\n",
       "    </tr>\n",
       "  </tbody>\n",
       "</table>\n",
       "</div>"
      ],
      "text/plain": [
       "   Market_ID  Product  Market_Price_per_ton  Demand_Index  Supply_Index  \\\n",
       "0          1     Rice            180.251212    196.085900    199.509124   \n",
       "1          2     Rice            420.527970    188.452400    150.789483   \n",
       "2          3    Wheat            457.260398    171.179384     78.989326   \n",
       "3          4  Soybean            237.179113    196.970677     50.464363   \n",
       "4          5    Wheat            324.032925    113.165416    145.878647   \n",
       "\n",
       "   Competitor_Price_per_ton  Economic_Indicator  Weather_Impact_Score  \\\n",
       "0                300.549219            1.093636             28.474810   \n",
       "1                492.097798            0.526307             70.978063   \n",
       "2                323.003342            1.292393             80.853592   \n",
       "3                232.978384            0.627663             60.676069   \n",
       "4                312.428652            1.491255             45.379516   \n",
       "\n",
       "  Seasonal_Factor  Consumer_Trend_Index  \n",
       "0          Medium            148.472131  \n",
       "1            High             97.298888  \n",
       "2             Low            131.113236  \n",
       "3             Low             95.169417  \n",
       "4             Low            130.297138  "
      ]
     },
     "execution_count": 3,
     "metadata": {},
     "output_type": "execute_result"
    }
   ],
   "source": [
    "market_df.head()"
   ]
  },
  {
   "cell_type": "code",
   "execution_count": 4,
   "metadata": {},
   "outputs": [
    {
     "name": "stdout",
     "output_type": "stream",
     "text": [
      "Index(['Market_ID', 'Product', 'Market_Price_per_ton', 'Demand_Index',\n",
      "       'Supply_Index', 'Competitor_Price_per_ton', 'Economic_Indicator',\n",
      "       'Weather_Impact_Score', 'Seasonal_Factor', 'Consumer_Trend_Index'],\n",
      "      dtype='object')\n"
     ]
    }
   ],
   "source": [
    "print(market_df.columns)"
   ]
  },
  {
   "cell_type": "code",
   "execution_count": 5,
   "metadata": {},
   "outputs": [
    {
     "data": {
      "text/html": [
       "<div>\n",
       "<style scoped>\n",
       "    .dataframe tbody tr th:only-of-type {\n",
       "        vertical-align: middle;\n",
       "    }\n",
       "\n",
       "    .dataframe tbody tr th {\n",
       "        vertical-align: top;\n",
       "    }\n",
       "\n",
       "    .dataframe thead th {\n",
       "        text-align: right;\n",
       "    }\n",
       "</style>\n",
       "<table border=\"1\" class=\"dataframe\">\n",
       "  <thead>\n",
       "    <tr style=\"text-align: right;\">\n",
       "      <th></th>\n",
       "      <th>Market_ID</th>\n",
       "      <th>Market_Price_per_ton</th>\n",
       "      <th>Demand_Index</th>\n",
       "      <th>Supply_Index</th>\n",
       "      <th>Competitor_Price_per_ton</th>\n",
       "      <th>Economic_Indicator</th>\n",
       "      <th>Weather_Impact_Score</th>\n",
       "      <th>Consumer_Trend_Index</th>\n",
       "    </tr>\n",
       "  </thead>\n",
       "  <tbody>\n",
       "    <tr>\n",
       "      <th>count</th>\n",
       "      <td>10000.00000</td>\n",
       "      <td>10000.000000</td>\n",
       "      <td>10000.000000</td>\n",
       "      <td>10000.000000</td>\n",
       "      <td>10000.000000</td>\n",
       "      <td>10000.000000</td>\n",
       "      <td>10000.000000</td>\n",
       "      <td>10000.000000</td>\n",
       "    </tr>\n",
       "    <tr>\n",
       "      <th>mean</th>\n",
       "      <td>5000.50000</td>\n",
       "      <td>299.645429</td>\n",
       "      <td>125.093568</td>\n",
       "      <td>125.050815</td>\n",
       "      <td>300.811000</td>\n",
       "      <td>1.003514</td>\n",
       "      <td>50.429491</td>\n",
       "      <td>99.577175</td>\n",
       "    </tr>\n",
       "    <tr>\n",
       "      <th>std</th>\n",
       "      <td>2886.89568</td>\n",
       "      <td>115.827248</td>\n",
       "      <td>43.294001</td>\n",
       "      <td>43.067888</td>\n",
       "      <td>115.529938</td>\n",
       "      <td>0.291315</td>\n",
       "      <td>29.086479</td>\n",
       "      <td>28.849323</td>\n",
       "    </tr>\n",
       "    <tr>\n",
       "      <th>min</th>\n",
       "      <td>1.00000</td>\n",
       "      <td>100.037672</td>\n",
       "      <td>50.025587</td>\n",
       "      <td>50.024338</td>\n",
       "      <td>100.056917</td>\n",
       "      <td>0.500231</td>\n",
       "      <td>0.037550</td>\n",
       "      <td>50.005314</td>\n",
       "    </tr>\n",
       "    <tr>\n",
       "      <th>25%</th>\n",
       "      <td>2500.75000</td>\n",
       "      <td>198.417882</td>\n",
       "      <td>87.542376</td>\n",
       "      <td>87.979919</td>\n",
       "      <td>201.020246</td>\n",
       "      <td>0.751027</td>\n",
       "      <td>25.089886</td>\n",
       "      <td>74.534404</td>\n",
       "    </tr>\n",
       "    <tr>\n",
       "      <th>50%</th>\n",
       "      <td>5000.50000</td>\n",
       "      <td>300.389982</td>\n",
       "      <td>124.281852</td>\n",
       "      <td>124.655779</td>\n",
       "      <td>302.366876</td>\n",
       "      <td>1.008187</td>\n",
       "      <td>50.642166</td>\n",
       "      <td>99.456034</td>\n",
       "    </tr>\n",
       "    <tr>\n",
       "      <th>75%</th>\n",
       "      <td>7500.25000</td>\n",
       "      <td>399.950988</td>\n",
       "      <td>162.295042</td>\n",
       "      <td>161.747421</td>\n",
       "      <td>401.918023</td>\n",
       "      <td>1.256631</td>\n",
       "      <td>75.547328</td>\n",
       "      <td>124.758656</td>\n",
       "    </tr>\n",
       "    <tr>\n",
       "      <th>max</th>\n",
       "      <td>10000.00000</td>\n",
       "      <td>499.999056</td>\n",
       "      <td>199.997449</td>\n",
       "      <td>199.991317</td>\n",
       "      <td>499.916582</td>\n",
       "      <td>1.499887</td>\n",
       "      <td>99.999365</td>\n",
       "      <td>149.997429</td>\n",
       "    </tr>\n",
       "  </tbody>\n",
       "</table>\n",
       "</div>"
      ],
      "text/plain": [
       "         Market_ID  Market_Price_per_ton  Demand_Index  Supply_Index  \\\n",
       "count  10000.00000          10000.000000  10000.000000  10000.000000   \n",
       "mean    5000.50000            299.645429    125.093568    125.050815   \n",
       "std     2886.89568            115.827248     43.294001     43.067888   \n",
       "min        1.00000            100.037672     50.025587     50.024338   \n",
       "25%     2500.75000            198.417882     87.542376     87.979919   \n",
       "50%     5000.50000            300.389982    124.281852    124.655779   \n",
       "75%     7500.25000            399.950988    162.295042    161.747421   \n",
       "max    10000.00000            499.999056    199.997449    199.991317   \n",
       "\n",
       "       Competitor_Price_per_ton  Economic_Indicator  Weather_Impact_Score  \\\n",
       "count              10000.000000        10000.000000          10000.000000   \n",
       "mean                 300.811000            1.003514             50.429491   \n",
       "std                  115.529938            0.291315             29.086479   \n",
       "min                  100.056917            0.500231              0.037550   \n",
       "25%                  201.020246            0.751027             25.089886   \n",
       "50%                  302.366876            1.008187             50.642166   \n",
       "75%                  401.918023            1.256631             75.547328   \n",
       "max                  499.916582            1.499887             99.999365   \n",
       "\n",
       "       Consumer_Trend_Index  \n",
       "count          10000.000000  \n",
       "mean              99.577175  \n",
       "std               28.849323  \n",
       "min               50.005314  \n",
       "25%               74.534404  \n",
       "50%               99.456034  \n",
       "75%              124.758656  \n",
       "max              149.997429  "
      ]
     },
     "execution_count": 5,
     "metadata": {},
     "output_type": "execute_result"
    }
   ],
   "source": [
    "market_df.describe()"
   ]
  },
  {
   "cell_type": "code",
   "execution_count": 6,
   "metadata": {},
   "outputs": [
    {
     "data": {
      "text/plain": [
       "array(['Rice', 'Wheat', 'Soybean', 'Corn'], dtype=object)"
      ]
     },
     "execution_count": 6,
     "metadata": {},
     "output_type": "execute_result"
    }
   ],
   "source": [
    "market_df['Product'].unique()"
   ]
  },
  {
   "cell_type": "code",
   "execution_count": 7,
   "metadata": {},
   "outputs": [
    {
     "data": {
      "text/plain": [
       "array(['Medium', 'High', 'Low'], dtype=object)"
      ]
     },
     "execution_count": 7,
     "metadata": {},
     "output_type": "execute_result"
    }
   ],
   "source": [
    "market_df['Seasonal_Factor'].unique()"
   ]
  },
  {
   "cell_type": "code",
   "execution_count": 8,
   "metadata": {},
   "outputs": [
    {
     "name": "stdout",
     "output_type": "stream",
     "text": [
      "<class 'pandas.core.frame.DataFrame'>\n",
      "RangeIndex: 10000 entries, 0 to 9999\n",
      "Data columns (total 10 columns):\n",
      " #   Column                    Non-Null Count  Dtype  \n",
      "---  ------                    --------------  -----  \n",
      " 0   Market_ID                 10000 non-null  int64  \n",
      " 1   Product                   10000 non-null  object \n",
      " 2   Market_Price_per_ton      10000 non-null  float64\n",
      " 3   Demand_Index              10000 non-null  float64\n",
      " 4   Supply_Index              10000 non-null  float64\n",
      " 5   Competitor_Price_per_ton  10000 non-null  float64\n",
      " 6   Economic_Indicator        10000 non-null  float64\n",
      " 7   Weather_Impact_Score      10000 non-null  float64\n",
      " 8   Seasonal_Factor           10000 non-null  object \n",
      " 9   Consumer_Trend_Index      10000 non-null  float64\n",
      "dtypes: float64(7), int64(1), object(2)\n",
      "memory usage: 781.4+ KB\n"
     ]
    }
   ],
   "source": [
    "market_df.info()"
   ]
  },
  {
   "cell_type": "code",
   "execution_count": 9,
   "metadata": {},
   "outputs": [
    {
     "name": "stdout",
     "output_type": "stream",
     "text": [
      "Market_ID                   0\n",
      "Product                     0\n",
      "Market_Price_per_ton        0\n",
      "Demand_Index                0\n",
      "Supply_Index                0\n",
      "Competitor_Price_per_ton    0\n",
      "Economic_Indicator          0\n",
      "Weather_Impact_Score        0\n",
      "Seasonal_Factor             0\n",
      "Consumer_Trend_Index        0\n",
      "dtype: int64\n"
     ]
    }
   ],
   "source": [
    "missing_values = market_df.isnull().sum()\n",
    "print(missing_values)"
   ]
  },
  {
   "cell_type": "code",
   "execution_count": 10,
   "metadata": {},
   "outputs": [
    {
     "data": {
      "text/html": [
       "<div>\n",
       "<style scoped>\n",
       "    .dataframe tbody tr th:only-of-type {\n",
       "        vertical-align: middle;\n",
       "    }\n",
       "\n",
       "    .dataframe tbody tr th {\n",
       "        vertical-align: top;\n",
       "    }\n",
       "\n",
       "    .dataframe thead th {\n",
       "        text-align: right;\n",
       "    }\n",
       "</style>\n",
       "<table border=\"1\" class=\"dataframe\">\n",
       "  <thead>\n",
       "    <tr style=\"text-align: right;\">\n",
       "      <th></th>\n",
       "      <th>Market_ID</th>\n",
       "      <th>Product</th>\n",
       "      <th>Market_Price_per_ton</th>\n",
       "      <th>Demand_Index</th>\n",
       "      <th>Supply_Index</th>\n",
       "      <th>Competitor_Price_per_ton</th>\n",
       "      <th>Economic_Indicator</th>\n",
       "      <th>Weather_Impact_Score</th>\n",
       "      <th>Seasonal_Factor</th>\n",
       "      <th>Consumer_Trend_Index</th>\n",
       "    </tr>\n",
       "  </thead>\n",
       "  <tbody>\n",
       "  </tbody>\n",
       "</table>\n",
       "</div>"
      ],
      "text/plain": [
       "Empty DataFrame\n",
       "Columns: [Market_ID, Product, Market_Price_per_ton, Demand_Index, Supply_Index, Competitor_Price_per_ton, Economic_Indicator, Weather_Impact_Score, Seasonal_Factor, Consumer_Trend_Index]\n",
       "Index: []"
      ]
     },
     "execution_count": 10,
     "metadata": {},
     "output_type": "execute_result"
    }
   ],
   "source": [
    "market_df[market_df.duplicated(keep=False)]"
   ]
  },
  {
   "cell_type": "code",
   "execution_count": 13,
   "metadata": {},
   "outputs": [
    {
     "name": "stdout",
     "output_type": "stream",
     "text": [
      "                          Market_Price_per_ton  Demand_Index  Supply_Index  \\\n",
      "Market_Price_per_ton                  1.000000      0.008931      0.001988   \n",
      "Demand_Index                          0.008931      1.000000      0.001595   \n",
      "Supply_Index                          0.001988      0.001595      1.000000   \n",
      "Competitor_Price_per_ton              0.015507     -0.007890      0.004231   \n",
      "Economic_Indicator                   -0.000301      0.003944     -0.014851   \n",
      "Weather_Impact_Score                 -0.016075      0.004337     -0.008597   \n",
      "Consumer_Trend_Index                  0.008556      0.003007      0.006499   \n",
      "\n",
      "                          Competitor_Price_per_ton  Economic_Indicator  \\\n",
      "Market_Price_per_ton                      0.015507           -0.000301   \n",
      "Demand_Index                             -0.007890            0.003944   \n",
      "Supply_Index                              0.004231           -0.014851   \n",
      "Competitor_Price_per_ton                  1.000000            0.012793   \n",
      "Economic_Indicator                        0.012793            1.000000   \n",
      "Weather_Impact_Score                     -0.012088           -0.009827   \n",
      "Consumer_Trend_Index                      0.011947            0.005544   \n",
      "\n",
      "                          Weather_Impact_Score  Consumer_Trend_Index  \n",
      "Market_Price_per_ton                 -0.016075              0.008556  \n",
      "Demand_Index                          0.004337              0.003007  \n",
      "Supply_Index                         -0.008597              0.006499  \n",
      "Competitor_Price_per_ton             -0.012088              0.011947  \n",
      "Economic_Indicator                   -0.009827              0.005544  \n",
      "Weather_Impact_Score                  1.000000              0.005999  \n",
      "Consumer_Trend_Index                  0.005999              1.000000  \n"
     ]
    }
   ],
   "source": [
    "numeric_columns = market_df.select_dtypes(include=[np.number]).columns\n",
    "numeric_columns = numeric_columns.drop('Market_ID')\n",
    "corr_matrix = market_df[numeric_columns].corr()\n",
    "print(corr_matrix)"
   ]
  }
 ],
 "metadata": {
  "kernelspec": {
   "display_name": "predictorEnv",
   "language": "python",
   "name": "python3"
  },
  "language_info": {
   "codemirror_mode": {
    "name": "ipython",
    "version": 3
   },
   "file_extension": ".py",
   "mimetype": "text/x-python",
   "name": "python",
   "nbconvert_exporter": "python",
   "pygments_lexer": "ipython3",
   "version": "3.10.13"
  }
 },
 "nbformat": 4,
 "nbformat_minor": 2
}
