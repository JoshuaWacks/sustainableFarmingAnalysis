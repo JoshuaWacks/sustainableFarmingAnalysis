{
 "cells": [
  {
   "cell_type": "markdown",
   "metadata": {},
   "source": [
    "Q1) How can farming practices be optimised while promoting sustainability and reducing environmental impact?"
   ]
  },
  {
   "cell_type": "code",
   "execution_count": 1,
   "metadata": {},
   "outputs": [],
   "source": [
    "import pandas as pd\n",
    "import numpy as np\n",
    "import matplotlib.pyplot as plt\n",
    "import seaborn as sns\n",
    "from scipy.stats import f_oneway\n"
   ]
  },
  {
   "cell_type": "code",
   "execution_count": 2,
   "metadata": {},
   "outputs": [],
   "source": [
    "farmer_df = pd.read_csv('./data/farmer_advisor_dataset.csv')\n",
    "market_df = pd.read_csv('./data/market_researcher_dataset.csv')"
   ]
  },
  {
   "cell_type": "code",
   "execution_count": 3,
   "metadata": {},
   "outputs": [
    {
     "data": {
      "text/html": [
       "<div>\n",
       "<style scoped>\n",
       "    .dataframe tbody tr th:only-of-type {\n",
       "        vertical-align: middle;\n",
       "    }\n",
       "\n",
       "    .dataframe tbody tr th {\n",
       "        vertical-align: top;\n",
       "    }\n",
       "\n",
       "    .dataframe thead th {\n",
       "        text-align: right;\n",
       "    }\n",
       "</style>\n",
       "<table border=\"1\" class=\"dataframe\">\n",
       "  <thead>\n",
       "    <tr style=\"text-align: right;\">\n",
       "      <th></th>\n",
       "      <th>Farm_ID</th>\n",
       "      <th>Soil_pH</th>\n",
       "      <th>Soil_Moisture</th>\n",
       "      <th>Temperature_C</th>\n",
       "      <th>Rainfall_mm</th>\n",
       "      <th>Crop_Type</th>\n",
       "      <th>Fertilizer_Usage_kg</th>\n",
       "      <th>Pesticide_Usage_kg</th>\n",
       "      <th>Crop_Yield_ton</th>\n",
       "      <th>Sustainability_Score</th>\n",
       "    </tr>\n",
       "  </thead>\n",
       "  <tbody>\n",
       "    <tr>\n",
       "      <th>0</th>\n",
       "      <td>1</td>\n",
       "      <td>7.073643</td>\n",
       "      <td>49.145359</td>\n",
       "      <td>26.668157</td>\n",
       "      <td>227.890912</td>\n",
       "      <td>Wheat</td>\n",
       "      <td>131.692844</td>\n",
       "      <td>2.958215</td>\n",
       "      <td>1.576920</td>\n",
       "      <td>51.913649</td>\n",
       "    </tr>\n",
       "    <tr>\n",
       "      <th>1</th>\n",
       "      <td>2</td>\n",
       "      <td>6.236931</td>\n",
       "      <td>21.496115</td>\n",
       "      <td>29.325342</td>\n",
       "      <td>244.017493</td>\n",
       "      <td>Soybean</td>\n",
       "      <td>136.370492</td>\n",
       "      <td>19.204770</td>\n",
       "      <td>3.824686</td>\n",
       "      <td>47.159077</td>\n",
       "    </tr>\n",
       "    <tr>\n",
       "      <th>2</th>\n",
       "      <td>3</td>\n",
       "      <td>5.922335</td>\n",
       "      <td>19.469042</td>\n",
       "      <td>17.666414</td>\n",
       "      <td>141.110521</td>\n",
       "      <td>Corn</td>\n",
       "      <td>99.725210</td>\n",
       "      <td>11.041066</td>\n",
       "      <td>1.133198</td>\n",
       "      <td>50.148418</td>\n",
       "    </tr>\n",
       "    <tr>\n",
       "      <th>3</th>\n",
       "      <td>4</td>\n",
       "      <td>6.845120</td>\n",
       "      <td>27.974234</td>\n",
       "      <td>17.188722</td>\n",
       "      <td>156.785663</td>\n",
       "      <td>Wheat</td>\n",
       "      <td>194.832396</td>\n",
       "      <td>8.806271</td>\n",
       "      <td>8.870540</td>\n",
       "      <td>89.764557</td>\n",
       "    </tr>\n",
       "    <tr>\n",
       "      <th>4</th>\n",
       "      <td>5</td>\n",
       "      <td>6.934171</td>\n",
       "      <td>33.637679</td>\n",
       "      <td>23.603899</td>\n",
       "      <td>77.859362</td>\n",
       "      <td>Corn</td>\n",
       "      <td>57.271267</td>\n",
       "      <td>3.747553</td>\n",
       "      <td>8.779317</td>\n",
       "      <td>51.033941</td>\n",
       "    </tr>\n",
       "  </tbody>\n",
       "</table>\n",
       "</div>"
      ],
      "text/plain": [
       "   Farm_ID   Soil_pH  Soil_Moisture  Temperature_C  Rainfall_mm Crop_Type  \\\n",
       "0        1  7.073643      49.145359      26.668157   227.890912     Wheat   \n",
       "1        2  6.236931      21.496115      29.325342   244.017493   Soybean   \n",
       "2        3  5.922335      19.469042      17.666414   141.110521      Corn   \n",
       "3        4  6.845120      27.974234      17.188722   156.785663     Wheat   \n",
       "4        5  6.934171      33.637679      23.603899    77.859362      Corn   \n",
       "\n",
       "   Fertilizer_Usage_kg  Pesticide_Usage_kg  Crop_Yield_ton  \\\n",
       "0           131.692844            2.958215        1.576920   \n",
       "1           136.370492           19.204770        3.824686   \n",
       "2            99.725210           11.041066        1.133198   \n",
       "3           194.832396            8.806271        8.870540   \n",
       "4            57.271267            3.747553        8.779317   \n",
       "\n",
       "   Sustainability_Score  \n",
       "0             51.913649  \n",
       "1             47.159077  \n",
       "2             50.148418  \n",
       "3             89.764557  \n",
       "4             51.033941  "
      ]
     },
     "execution_count": 3,
     "metadata": {},
     "output_type": "execute_result"
    }
   ],
   "source": [
    "farmer_df.head()"
   ]
  },
  {
   "cell_type": "markdown",
   "metadata": {},
   "source": [
    "Analysis by Crop Type"
   ]
  },
  {
   "cell_type": "code",
   "execution_count": 4,
   "metadata": {},
   "outputs": [
    {
     "data": {
      "text/plain": [
       "array(['Wheat', 'Soybean', 'Corn', 'Rice'], dtype=object)"
      ]
     },
     "execution_count": 4,
     "metadata": {},
     "output_type": "execute_result"
    }
   ],
   "source": [
    "farmer_df['Crop_Type'].unique()"
   ]
  },
  {
   "cell_type": "code",
   "execution_count": 5,
   "metadata": {},
   "outputs": [
    {
     "data": {
      "text/plain": [
       "Crop_Type\n",
       "Corn       2455\n",
       "Rice       2464\n",
       "Soybean    2559\n",
       "Wheat      2522\n",
       "dtype: int64"
      ]
     },
     "execution_count": 5,
     "metadata": {},
     "output_type": "execute_result"
    }
   ],
   "source": [
    "farmer_df.groupby(['Crop_Type']).size()"
   ]
  },
  {
   "cell_type": "code",
   "execution_count": 6,
   "metadata": {},
   "outputs": [],
   "source": [
    "corn_df = farmer_df[farmer_df['Crop_Type'] == 'Corn'].reset_index(drop=True).drop(columns=['Crop_Type'])\n",
    "rice_df = farmer_df[farmer_df['Crop_Type'] == 'Rice'].reset_index(drop=True).drop(columns=['Crop_Type'])\n",
    "soybean_df = farmer_df[farmer_df['Crop_Type'] == 'Soybean'].reset_index(drop=True).drop(columns=['Crop_Type'])\n",
    "wheat_df = farmer_df[farmer_df['Crop_Type'] == 'Wheat'].reset_index(drop=True).drop(columns=['Crop_Type'])\n",
    "\n",
    "crop_names = ['Corn','Rice','Soybean','Wheat']\n",
    "crop_dfs = [corn_df,rice_df,soybean_df,wheat_df]"
   ]
  },
  {
   "cell_type": "markdown",
   "metadata": {},
   "source": [
    "Is there a discernable Crop_Yield_ton or Sustainability_Score across the crops?"
   ]
  },
  {
   "cell_type": "code",
   "execution_count": 7,
   "metadata": {},
   "outputs": [
    {
     "name": "stdout",
     "output_type": "stream",
     "text": [
      "Average Crop_Yield_ton in Corn: 5.532547700050306\n",
      "Average Crop_Yield_ton in Rice: 5.530343855231179\n",
      "Average Crop_Yield_ton in Soybean: 5.4693304241317415\n",
      "Average Crop_Yield_ton in Wheat: 5.42868697874103\n"
     ]
    }
   ],
   "source": [
    "for crop_name, crop_df in zip(crop_names, crop_dfs):\n",
    "\n",
    "    print(F\"Average Crop_Yield_ton in {crop_name}: {crop_df.loc[:,'Crop_Yield_ton'].mean()}\")"
   ]
  },
  {
   "cell_type": "code",
   "execution_count": 8,
   "metadata": {},
   "outputs": [
    {
     "data": {
      "image/png": "[encoded data removed]",
      "text/plain": [
       "<Figure size 640x480 with 1 Axes>"
      ]
     },
     "metadata": {},
     "output_type": "display_data"
    }
   ],
   "source": [
    "sns.barplot(farmer_df,y = 'Crop_Yield_ton', x='Crop_Type', hue = 'Crop_Type')\n",
    "plt.title(F\"Crop_Yield_ton by Crop_Type\")\n",
    "plt.show()"
   ]
  },
  {
   "cell_type": "markdown",
   "metadata": {},
   "source": [
    "Wheat seems to have a smaller Crop_Yield_ton but don't think it is significant"
   ]
  },
  {
   "cell_type": "code",
   "execution_count": 9,
   "metadata": {},
   "outputs": [
    {
     "name": "stdout",
     "output_type": "stream",
     "text": [
      "Average Sustainability_Score in Corn: 50.336716110938774\n",
      "Average Sustainability_Score in Rice: 50.12116381792024\n",
      "Average Sustainability_Score in Soybean: 50.020930720912034\n",
      "Average Sustainability_Score in Wheat: 50.37797660327763\n"
     ]
    }
   ],
   "source": [
    "for crop_name, crop_df in zip(crop_names, crop_dfs):\n",
    "    print(F\"Average Sustainability_Score in {crop_name}: {crop_df.loc[:,'Sustainability_Score'].mean()}\")"
   ]
  },
  {
   "cell_type": "code",
   "execution_count": 10,
   "metadata": {},
   "outputs": [
    {
     "data": {
      "image/png": "[encoded data removed]",
      "text/plain": [
       "<Figure size 640x480 with 1 Axes>"
      ]
     },
     "metadata": {},
     "output_type": "display_data"
    }
   ],
   "source": [
    "sns.barplot(farmer_df,y = 'Sustainability_Score', x='Crop_Type', hue = 'Crop_Type')\n",
    "plt.title(F\"Sustainability_Score by Crop_Type\")\n",
    "plt.show()"
   ]
  },
  {
   "cell_type": "markdown",
   "metadata": {},
   "source": [
    "Soybean seems to have lower Sustainability_Score but not sure it is significant"
   ]
  },
  {
   "cell_type": "markdown",
   "metadata": {},
   "source": [
    "Testing for statistical significance"
   ]
  },
  {
   "cell_type": "code",
   "execution_count": 11,
   "metadata": {},
   "outputs": [],
   "source": [
    "Crop_Yield_ton_ANOVA = f_oneway(corn_df['Crop_Yield_ton'], rice_df['Crop_Yield_ton'], soybean_df['Crop_Yield_ton'], wheat_df['Crop_Yield_ton'])"
   ]
  },
  {
   "cell_type": "code",
   "execution_count": 12,
   "metadata": {},
   "outputs": [
    {
     "name": "stdout",
     "output_type": "stream",
     "text": [
      "Crop is not statistically significant as p value of the test is: 0.4242485393761416 >> 0.0.5 in determining Crop_Yield_ton\n"
     ]
    }
   ],
   "source": [
    "print(F\"Crop is not statistically significant as p value of the test is: {Crop_Yield_ton_ANOVA.pvalue} >> 0.0.5 in determining Crop_Yield_ton\")"
   ]
  },
  {
   "cell_type": "code",
   "execution_count": 13,
   "metadata": {},
   "outputs": [],
   "source": [
    "Sustainability_Score_ANOVA = f_oneway(corn_df['Sustainability_Score'], rice_df['Sustainability_Score'], soybean_df['Sustainability_Score'], wheat_df['Sustainability_Score'])"
   ]
  },
  {
   "cell_type": "code",
   "execution_count": 14,
   "metadata": {},
   "outputs": [
    {
     "name": "stdout",
     "output_type": "stream",
     "text": [
      "Crop is not statistically significant as p value of the test is: 0.9656869114798704 >> 0.0.5 in determining Sustainability_Score\n"
     ]
    }
   ],
   "source": [
    "print(F\"Crop is not statistically significant as p value of the test is: {Sustainability_Score_ANOVA.pvalue} >> 0.0.5 in determining Sustainability_Score\")"
   ]
  },
  {
   "cell_type": "markdown",
   "metadata": {},
   "source": [
    "Distribution of Sustainability_Score by Crop_Type"
   ]
  },
  {
   "cell_type": "code",
   "execution_count": 15,
   "metadata": {},
   "outputs": [
    {
     "data": {
      "text/plain": [
       "<seaborn.axisgrid.FacetGrid at 0x2263ed92bc0>"
      ]
     },
     "execution_count": 15,
     "metadata": {},
     "output_type": "execute_result"
    },
    {
     "data": {
      "image/png": "[encoded data removed]",
      "text/plain": [
       "<Figure size 2000x500 with 4 Axes>"
      ]
     },
     "metadata": {},
     "output_type": "display_data"
    }
   ],
   "source": [
    "sns.displot(farmer_df, x=\"Sustainability_Score\", col=\"Crop_Type\")"
   ]
  },
  {
   "cell_type": "code",
   "execution_count": 16,
   "metadata": {},
   "outputs": [],
   "source": [
    "numeric_columns = farmer_df.select_dtypes(include=[np.number]).columns\n",
    "numeric_columns = numeric_columns.drop('Farm_ID')"
   ]
  },
  {
   "cell_type": "code",
   "execution_count": 17,
   "metadata": {},
   "outputs": [
    {
     "name": "stdout",
     "output_type": "stream",
     "text": [
      "Corn\n",
      "Soil_pH                -0.003565\n",
      "Soil_Moisture          -0.012612\n",
      "Temperature_C           0.037847\n",
      "Rainfall_mm             0.044281\n",
      "Fertilizer_Usage_kg     0.030363\n",
      "Pesticide_Usage_kg     -0.004693\n",
      "Crop_Yield_ton         -0.017115\n",
      "Sustainability_Score    1.000000\n",
      "Name: Sustainability_Score, dtype: float64 \n",
      "\n",
      "Rice\n",
      "Soil_pH                 0.027624\n",
      "Soil_Moisture           0.014456\n",
      "Temperature_C           0.033386\n",
      "Rainfall_mm            -0.004479\n",
      "Fertilizer_Usage_kg    -0.003369\n",
      "Pesticide_Usage_kg     -0.025362\n",
      "Crop_Yield_ton          0.015550\n",
      "Sustainability_Score    1.000000\n",
      "Name: Sustainability_Score, dtype: float64 \n",
      "\n",
      "Soybean\n",
      "Soil_pH                 0.031849\n",
      "Soil_Moisture           0.009250\n",
      "Temperature_C           0.022513\n",
      "Rainfall_mm            -0.007081\n",
      "Fertilizer_Usage_kg    -0.003872\n",
      "Pesticide_Usage_kg     -0.017536\n",
      "Crop_Yield_ton         -0.010043\n",
      "Sustainability_Score    1.000000\n",
      "Name: Sustainability_Score, dtype: float64 \n",
      "\n",
      "Wheat\n",
      "Soil_pH                 0.011882\n",
      "Soil_Moisture          -0.013842\n",
      "Temperature_C          -0.008284\n",
      "Rainfall_mm            -0.003788\n",
      "Fertilizer_Usage_kg     0.017188\n",
      "Pesticide_Usage_kg      0.007083\n",
      "Crop_Yield_ton         -0.003877\n",
      "Sustainability_Score    1.000000\n",
      "Name: Sustainability_Score, dtype: float64 \n",
      "\n"
     ]
    }
   ],
   "source": [
    "for crop_name, crop_df in zip(crop_names, crop_dfs):\n",
    "    corr_matrix = crop_df[numeric_columns].corr()\n",
    "    print(F\"{crop_name}\")\n",
    "    print(corr_matrix['Sustainability_Score'],'\\n')"
   ]
  },
  {
   "cell_type": "markdown",
   "metadata": {},
   "source": [
    "Suprisingly Pesticide_Usage_kga and Fertilizer_Usage_kg did not negatively affect the Sustainability_Score "
   ]
  },
  {
   "cell_type": "code",
   "execution_count": 18,
   "metadata": {},
   "outputs": [
    {
     "name": "stdout",
     "output_type": "stream",
     "text": [
      "Corn\n",
      "count    2455.000000\n",
      "mean       50.336716\n",
      "std        29.216601\n",
      "min         0.003672\n",
      "25%        24.410464\n",
      "50%        50.861552\n",
      "75%        75.581911\n",
      "max        99.982898\n",
      "Name: Sustainability_Score, dtype: float64\n",
      "\n",
      "\n",
      "Rice\n",
      "count    2464.000000\n",
      "mean       50.121164\n",
      "std        28.790213\n",
      "min         0.094223\n",
      "25%        25.724595\n",
      "50%        49.371945\n",
      "75%        75.327497\n",
      "max        99.924290\n",
      "Name: Sustainability_Score, dtype: float64\n",
      "\n",
      "\n",
      "Soybean\n",
      "count    2559.000000\n",
      "mean       50.020931\n",
      "std        28.372919\n",
      "min         0.032184\n",
      "25%        26.595059\n",
      "50%        50.343204\n",
      "75%        74.310586\n",
      "max        99.994545\n",
      "Name: Sustainability_Score, dtype: float64\n",
      "\n",
      "\n",
      "Wheat\n",
      "count    2522.000000\n",
      "mean       50.377977\n",
      "std        28.317076\n",
      "min         0.048762\n",
      "25%        26.903133\n",
      "50%        50.164720\n",
      "75%        74.579588\n",
      "max        99.861752\n",
      "Name: Sustainability_Score, dtype: float64\n",
      "\n",
      "\n"
     ]
    }
   ],
   "source": [
    "for crop_name, crop_df in zip(crop_names, crop_dfs):\n",
    "    print(crop_name)\n",
    "    print(crop_df['Sustainability_Score'].describe())\n",
    "    print('\\n')"
   ]
  },
  {
   "cell_type": "code",
   "execution_count": 19,
   "metadata": {},
   "outputs": [
    {
     "name": "stdout",
     "output_type": "stream",
     "text": [
      "Corn\n",
      "count    2455.000000\n",
      "mean        5.532548\n",
      "std         2.646985\n",
      "min         1.001584\n",
      "25%         3.244264\n",
      "50%         5.560555\n",
      "75%         7.908945\n",
      "max         9.998172\n",
      "Name: Crop_Yield_ton, dtype: float64\n",
      "\n",
      "\n",
      "Rice\n",
      "count    2464.000000\n",
      "mean        5.530344\n",
      "std         2.589223\n",
      "min         1.004837\n",
      "25%         3.261746\n",
      "50%         5.520343\n",
      "75%         7.789679\n",
      "max         9.999638\n",
      "Name: Crop_Yield_ton, dtype: float64\n",
      "\n",
      "\n",
      "Soybean\n",
      "count    2559.000000\n",
      "mean        5.469330\n",
      "std         2.594747\n",
      "min         1.001689\n",
      "25%         3.254244\n",
      "50%         5.478837\n",
      "75%         7.699708\n",
      "max         9.999082\n",
      "Name: Crop_Yield_ton, dtype: float64\n",
      "\n",
      "\n",
      "Wheat\n",
      "count    2522.000000\n",
      "mean        5.428687\n",
      "std         2.604770\n",
      "min         1.000323\n",
      "25%         3.080633\n",
      "50%         5.438815\n",
      "75%         7.617838\n",
      "max         9.999446\n",
      "Name: Crop_Yield_ton, dtype: float64\n",
      "\n",
      "\n"
     ]
    }
   ],
   "source": [
    "for crop_name, crop_df in zip(crop_names, crop_dfs):\n",
    "    print(crop_name)\n",
    "    print(crop_df['Crop_Yield_ton'].describe())\n",
    "    print('\\n')"
   ]
  },
  {
   "cell_type": "code",
   "execution_count": 20,
   "metadata": {},
   "outputs": [
    {
     "data": {
      "image/png": "[encoded data removed]",
      "text/plain": [
       "<Figure size 2000x500 with 4 Axes>"
      ]
     },
     "metadata": {},
     "output_type": "display_data"
    }
   ],
   "source": [
    "\n",
    "sns.displot(farmer_df, x=\"Crop_Yield_ton\", col=\"Crop_Type\")\n",
    "plt.show()"
   ]
  },
  {
   "cell_type": "markdown",
   "metadata": {},
   "source": [
    "Wheat has a lower 25% and average Crop_Yield_ton"
   ]
  },
  {
   "cell_type": "code",
   "execution_count": 21,
   "metadata": {},
   "outputs": [
    {
     "data": {
      "text/html": [
       "<div>\n",
       "<style scoped>\n",
       "    .dataframe tbody tr th:only-of-type {\n",
       "        vertical-align: middle;\n",
       "    }\n",
       "\n",
       "    .dataframe tbody tr th {\n",
       "        vertical-align: top;\n",
       "    }\n",
       "\n",
       "    .dataframe thead th {\n",
       "        text-align: right;\n",
       "    }\n",
       "</style>\n",
       "<table border=\"1\" class=\"dataframe\">\n",
       "  <thead>\n",
       "    <tr style=\"text-align: right;\">\n",
       "      <th></th>\n",
       "      <th>Farm_ID</th>\n",
       "      <th>Soil_pH</th>\n",
       "      <th>Soil_Moisture</th>\n",
       "      <th>Temperature_C</th>\n",
       "      <th>Rainfall_mm</th>\n",
       "      <th>Crop_Type</th>\n",
       "      <th>Fertilizer_Usage_kg</th>\n",
       "      <th>Pesticide_Usage_kg</th>\n",
       "      <th>Crop_Yield_ton</th>\n",
       "      <th>Sustainability_Score</th>\n",
       "    </tr>\n",
       "  </thead>\n",
       "  <tbody>\n",
       "    <tr>\n",
       "      <th>0</th>\n",
       "      <td>1</td>\n",
       "      <td>7.073643</td>\n",
       "      <td>49.145359</td>\n",
       "      <td>26.668157</td>\n",
       "      <td>227.890912</td>\n",
       "      <td>Wheat</td>\n",
       "      <td>131.692844</td>\n",
       "      <td>2.958215</td>\n",
       "      <td>1.576920</td>\n",
       "      <td>51.913649</td>\n",
       "    </tr>\n",
       "    <tr>\n",
       "      <th>1</th>\n",
       "      <td>2</td>\n",
       "      <td>6.236931</td>\n",
       "      <td>21.496115</td>\n",
       "      <td>29.325342</td>\n",
       "      <td>244.017493</td>\n",
       "      <td>Soybean</td>\n",
       "      <td>136.370492</td>\n",
       "      <td>19.204770</td>\n",
       "      <td>3.824686</td>\n",
       "      <td>47.159077</td>\n",
       "    </tr>\n",
       "    <tr>\n",
       "      <th>2</th>\n",
       "      <td>3</td>\n",
       "      <td>5.922335</td>\n",
       "      <td>19.469042</td>\n",
       "      <td>17.666414</td>\n",
       "      <td>141.110521</td>\n",
       "      <td>Corn</td>\n",
       "      <td>99.725210</td>\n",
       "      <td>11.041066</td>\n",
       "      <td>1.133198</td>\n",
       "      <td>50.148418</td>\n",
       "    </tr>\n",
       "    <tr>\n",
       "      <th>3</th>\n",
       "      <td>4</td>\n",
       "      <td>6.845120</td>\n",
       "      <td>27.974234</td>\n",
       "      <td>17.188722</td>\n",
       "      <td>156.785663</td>\n",
       "      <td>Wheat</td>\n",
       "      <td>194.832396</td>\n",
       "      <td>8.806271</td>\n",
       "      <td>8.870540</td>\n",
       "      <td>89.764557</td>\n",
       "    </tr>\n",
       "    <tr>\n",
       "      <th>4</th>\n",
       "      <td>5</td>\n",
       "      <td>6.934171</td>\n",
       "      <td>33.637679</td>\n",
       "      <td>23.603899</td>\n",
       "      <td>77.859362</td>\n",
       "      <td>Corn</td>\n",
       "      <td>57.271267</td>\n",
       "      <td>3.747553</td>\n",
       "      <td>8.779317</td>\n",
       "      <td>51.033941</td>\n",
       "    </tr>\n",
       "    <tr>\n",
       "      <th>...</th>\n",
       "      <td>...</td>\n",
       "      <td>...</td>\n",
       "      <td>...</td>\n",
       "      <td>...</td>\n",
       "      <td>...</td>\n",
       "      <td>...</td>\n",
       "      <td>...</td>\n",
       "      <td>...</td>\n",
       "      <td>...</td>\n",
       "      <td>...</td>\n",
       "    </tr>\n",
       "    <tr>\n",
       "      <th>9995</th>\n",
       "      <td>9996</td>\n",
       "      <td>6.637573</td>\n",
       "      <td>15.723781</td>\n",
       "      <td>32.330501</td>\n",
       "      <td>267.024180</td>\n",
       "      <td>Rice</td>\n",
       "      <td>89.202027</td>\n",
       "      <td>13.514577</td>\n",
       "      <td>6.118399</td>\n",
       "      <td>8.578651</td>\n",
       "    </tr>\n",
       "    <tr>\n",
       "      <th>9996</th>\n",
       "      <td>9997</td>\n",
       "      <td>6.251629</td>\n",
       "      <td>12.161680</td>\n",
       "      <td>23.324274</td>\n",
       "      <td>133.896098</td>\n",
       "      <td>Rice</td>\n",
       "      <td>92.675510</td>\n",
       "      <td>3.257280</td>\n",
       "      <td>9.791433</td>\n",
       "      <td>96.561580</td>\n",
       "    </tr>\n",
       "    <tr>\n",
       "      <th>9997</th>\n",
       "      <td>9998</td>\n",
       "      <td>7.038902</td>\n",
       "      <td>10.163089</td>\n",
       "      <td>23.400036</td>\n",
       "      <td>133.704986</td>\n",
       "      <td>Rice</td>\n",
       "      <td>104.183016</td>\n",
       "      <td>14.903259</td>\n",
       "      <td>3.623067</td>\n",
       "      <td>51.658196</td>\n",
       "    </tr>\n",
       "    <tr>\n",
       "      <th>9998</th>\n",
       "      <td>9999</td>\n",
       "      <td>5.647329</td>\n",
       "      <td>28.633415</td>\n",
       "      <td>31.122309</td>\n",
       "      <td>102.169135</td>\n",
       "      <td>Rice</td>\n",
       "      <td>58.636950</td>\n",
       "      <td>12.418353</td>\n",
       "      <td>6.605352</td>\n",
       "      <td>16.538088</td>\n",
       "    </tr>\n",
       "    <tr>\n",
       "      <th>9999</th>\n",
       "      <td>10000</td>\n",
       "      <td>6.633063</td>\n",
       "      <td>32.172279</td>\n",
       "      <td>24.069890</td>\n",
       "      <td>69.461815</td>\n",
       "      <td>Wheat</td>\n",
       "      <td>164.080483</td>\n",
       "      <td>5.639887</td>\n",
       "      <td>5.231007</td>\n",
       "      <td>76.320866</td>\n",
       "    </tr>\n",
       "  </tbody>\n",
       "</table>\n",
       "<p>10000 rows × 10 columns</p>\n",
       "</div>"
      ],
      "text/plain": [
       "      Farm_ID   Soil_pH  Soil_Moisture  Temperature_C  Rainfall_mm Crop_Type  \\\n",
       "0           1  7.073643      49.145359      26.668157   227.890912     Wheat   \n",
       "1           2  6.236931      21.496115      29.325342   244.017493   Soybean   \n",
       "2           3  5.922335      19.469042      17.666414   141.110521      Corn   \n",
       "3           4  6.845120      27.974234      17.188722   156.785663     Wheat   \n",
       "4           5  6.934171      33.637679      23.603899    77.859362      Corn   \n",
       "...       ...       ...            ...            ...          ...       ...   \n",
       "9995     9996  6.637573      15.723781      32.330501   267.024180      Rice   \n",
       "9996     9997  6.251629      12.161680      23.324274   133.896098      Rice   \n",
       "9997     9998  7.038902      10.163089      23.400036   133.704986      Rice   \n",
       "9998     9999  5.647329      28.633415      31.122309   102.169135      Rice   \n",
       "9999    10000  6.633063      32.172279      24.069890    69.461815     Wheat   \n",
       "\n",
       "      Fertilizer_Usage_kg  Pesticide_Usage_kg  Crop_Yield_ton  \\\n",
       "0              131.692844            2.958215        1.576920   \n",
       "1              136.370492           19.204770        3.824686   \n",
       "2               99.725210           11.041066        1.133198   \n",
       "3              194.832396            8.806271        8.870540   \n",
       "4               57.271267            3.747553        8.779317   \n",
       "...                   ...                 ...             ...   \n",
       "9995            89.202027           13.514577        6.118399   \n",
       "9996            92.675510            3.257280        9.791433   \n",
       "9997           104.183016           14.903259        3.623067   \n",
       "9998            58.636950           12.418353        6.605352   \n",
       "9999           164.080483            5.639887        5.231007   \n",
       "\n",
       "      Sustainability_Score  \n",
       "0                51.913649  \n",
       "1                47.159077  \n",
       "2                50.148418  \n",
       "3                89.764557  \n",
       "4                51.033941  \n",
       "...                    ...  \n",
       "9995              8.578651  \n",
       "9996             96.561580  \n",
       "9997             51.658196  \n",
       "9998             16.538088  \n",
       "9999             76.320866  \n",
       "\n",
       "[10000 rows x 10 columns]"
      ]
     },
     "execution_count": 21,
     "metadata": {},
     "output_type": "execute_result"
    }
   ],
   "source": [
    "farmer_df"
   ]
  },
  {
   "cell_type": "code",
   "execution_count": 22,
   "metadata": {},
   "outputs": [
    {
     "name": "stdout",
     "output_type": "stream",
     "text": [
      "Corn\n",
      "count    2455.000000\n",
      "mean        6.513959\n",
      "std         0.581548\n",
      "min         5.500866\n",
      "25%         6.018106\n",
      "50%         6.505143\n",
      "75%         7.015635\n",
      "max         7.499159\n",
      "Name: Soil_pH, dtype: float64\n",
      "\n",
      "\n",
      "Rice\n",
      "count    2464.000000\n",
      "mean        6.489261\n",
      "std         0.575234\n",
      "min         5.500021\n",
      "25%         5.994641\n",
      "50%         6.476422\n",
      "75%         6.992645\n",
      "max         7.499610\n",
      "Name: Soil_pH, dtype: float64\n",
      "\n",
      "\n",
      "Soybean\n",
      "count    2559.000000\n",
      "mean        6.512909\n",
      "std         0.565088\n",
      "min         5.500887\n",
      "25%         6.025164\n",
      "50%         6.524141\n",
      "75%         6.991671\n",
      "max         7.499761\n",
      "Name: Soil_pH, dtype: float64\n",
      "\n",
      "\n",
      "Wheat\n",
      "count    2522.000000\n",
      "mean        6.481798\n",
      "std         0.574730\n",
      "min         5.501193\n",
      "25%         5.975861\n",
      "50%         6.470961\n",
      "75%         6.970276\n",
      "max         7.499762\n",
      "Name: Soil_pH, dtype: float64\n",
      "\n",
      "\n"
     ]
    }
   ],
   "source": [
    "for crop_name, crop_df in zip(crop_names, crop_dfs):\n",
    "    print(crop_name)\n",
    "    print(crop_df['Soil_pH'].describe())\n",
    "    print('\\n')"
   ]
  },
  {
   "cell_type": "code",
   "execution_count": 44,
   "metadata": {},
   "outputs": [
    {
     "name": "stdout",
     "output_type": "stream",
     "text": [
      "Corn\n",
      "count    2455.000000\n",
      "mean       30.477318\n",
      "std        11.423602\n",
      "min        10.014188\n",
      "25%        21.034190\n",
      "50%        30.480965\n",
      "75%        40.314701\n",
      "max        49.994713\n",
      "Name: Soil_Moisture, dtype: float64\n",
      "\n",
      "\n",
      "Rice\n",
      "count    2464.000000\n",
      "mean       29.369335\n",
      "std        11.505601\n",
      "min        10.004217\n",
      "25%        19.468970\n",
      "50%        28.560669\n",
      "75%        39.156733\n",
      "max        49.994036\n",
      "Name: Soil_Moisture, dtype: float64\n",
      "\n",
      "\n",
      "Soybean\n",
      "count    2559.000000\n",
      "mean       30.135458\n",
      "std        11.541295\n",
      "min        10.008659\n",
      "25%        19.979161\n",
      "50%        30.291508\n",
      "75%        40.438888\n",
      "max        49.986110\n",
      "Name: Soil_Moisture, dtype: float64\n",
      "\n",
      "\n",
      "Wheat\n",
      "count    2522.000000\n",
      "mean       29.969094\n",
      "std        11.479851\n",
      "min        10.002907\n",
      "25%        19.942897\n",
      "50%        29.966559\n",
      "75%        40.095282\n",
      "max        49.980437\n",
      "Name: Soil_Moisture, dtype: float64\n",
      "\n",
      "\n"
     ]
    }
   ],
   "source": [
    "for crop_name, crop_df in zip(crop_names, crop_dfs):\n",
    "    print(crop_name)\n",
    "    print(crop_df['Soil_Moisture'].describe())\n",
    "    print('\\n')"
   ]
  },
  {
   "cell_type": "code",
   "execution_count": 45,
   "metadata": {},
   "outputs": [
    {
     "name": "stdout",
     "output_type": "stream",
     "text": [
      "Corn\n",
      "count    2455.000000\n",
      "mean       24.903524\n",
      "std         5.756393\n",
      "min        15.010295\n",
      "25%        20.057182\n",
      "50%        24.661926\n",
      "75%        30.064930\n",
      "max        34.997170\n",
      "Name: Temperature_C, dtype: float64\n",
      "\n",
      "\n",
      "Rice\n",
      "count    2464.000000\n",
      "mean       25.011235\n",
      "std         5.763930\n",
      "min        15.005513\n",
      "25%        20.121899\n",
      "50%        25.054401\n",
      "75%        30.013077\n",
      "max        34.986646\n",
      "Name: Temperature_C, dtype: float64\n",
      "\n",
      "\n",
      "Soybean\n",
      "count    2559.000000\n",
      "mean       25.089444\n",
      "std         5.775830\n",
      "min        15.001917\n",
      "25%        20.066839\n",
      "50%        25.143692\n",
      "75%        30.038981\n",
      "max        34.997529\n",
      "Name: Temperature_C, dtype: float64\n",
      "\n",
      "\n",
      "Wheat\n",
      "count    2522.000000\n",
      "mean       25.101123\n",
      "std         5.782583\n",
      "min        15.000186\n",
      "25%        20.040559\n",
      "50%        25.058607\n",
      "75%        30.151793\n",
      "max        34.999673\n",
      "Name: Temperature_C, dtype: float64\n",
      "\n",
      "\n"
     ]
    }
   ],
   "source": [
    "for crop_name, crop_df in zip(crop_names, crop_dfs):\n",
    "    print(crop_name)\n",
    "    print(crop_df['Temperature_C'].describe())\n",
    "    print('\\n')"
   ]
  },
  {
   "cell_type": "code",
   "execution_count": 46,
   "metadata": {},
   "outputs": [
    {
     "name": "stdout",
     "output_type": "stream",
     "text": [
      "Corn\n",
      "count    2455.000000\n",
      "mean      174.712080\n",
      "std        72.459677\n",
      "min        50.076617\n",
      "25%       112.725430\n",
      "50%       172.635587\n",
      "75%       237.851483\n",
      "max       299.986192\n",
      "Name: Rainfall_mm, dtype: float64\n",
      "\n",
      "\n",
      "Rice\n",
      "count    2464.000000\n",
      "mean      175.338412\n",
      "std        73.158799\n",
      "min        50.031967\n",
      "25%       109.235307\n",
      "50%       175.190591\n",
      "75%       240.246247\n",
      "max       299.971369\n",
      "Name: Rainfall_mm, dtype: float64\n",
      "\n",
      "\n",
      "Soybean\n",
      "count    2559.000000\n",
      "mean      175.520537\n",
      "std        72.489456\n",
      "min        50.032798\n",
      "25%       114.342092\n",
      "50%       176.300552\n",
      "75%       236.933480\n",
      "max       299.862133\n",
      "Name: Rainfall_mm, dtype: float64\n",
      "\n",
      "\n",
      "Wheat\n",
      "count    2522.000000\n",
      "mean      174.301938\n",
      "std        73.370073\n",
      "min        50.076113\n",
      "25%       110.875276\n",
      "50%       173.520068\n",
      "75%       236.291112\n",
      "max       299.983419\n",
      "Name: Rainfall_mm, dtype: float64\n",
      "\n",
      "\n"
     ]
    }
   ],
   "source": [
    "for crop_name, crop_df in zip(crop_names, crop_dfs):\n",
    "    print(crop_name)\n",
    "    print(crop_df['Rainfall_mm'].describe())\n",
    "    print('\\n')"
   ]
  },
  {
   "cell_type": "markdown",
   "metadata": {},
   "source": [
    "Grow crops with the same env needs in same location, soil PH, Soil_Moisture, Temperature_C, Rainfall_mm"
   ]
  }
 ],
 "metadata": {
  "kernelspec": {
   "display_name": "predictorEnv",
   "language": "python",
   "name": "python3"
  },
  "language_info": {
   "codemirror_mode": {
    "name": "ipython",
    "version": 3
   },
   "file_extension": ".py",
   "mimetype": "text/x-python",
   "name": "python",
   "nbconvert_exporter": "python",
   "pygments_lexer": "ipython3",
   "version": "3.10.13"
  }
 },
 "nbformat": 4,
 "nbformat_minor": 2
}
