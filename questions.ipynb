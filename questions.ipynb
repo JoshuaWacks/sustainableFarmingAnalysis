{
 "cells": [
  {
   "cell_type": "markdown",
   "metadata": {},
   "source": [
    "Q1) How can farming practices be optimised while promoting sustainability and reducing environmental impact?"
   ]
  },
  {
   "cell_type": "code",
   "execution_count": 11,
   "metadata": {},
   "outputs": [],
   "source": [
    "import pandas as pd\n",
    "import numpy as np\n",
    "import matplotlib.pyplot as plt\n",
    "import seaborn as sns\n",
    "from scipy.stats import f_oneway\n"
   ]
  },
  {
   "cell_type": "code",
   "execution_count": 2,
   "metadata": {},
   "outputs": [],
   "source": [
    "farmer_df = pd.read_csv('./data/farmer_advisor_dataset.csv')\n",
    "market_df = pd.read_csv('./data/market_researcher_dataset.csv')"
   ]
  },
  {
   "cell_type": "code",
   "execution_count": 3,
   "metadata": {},
   "outputs": [
    {
     "data": {
      "text/html": [
       "<div>\n",
       "<style scoped>\n",
       "    .dataframe tbody tr th:only-of-type {\n",
       "        vertical-align: middle;\n",
       "    }\n",
       "\n",
       "    .dataframe tbody tr th {\n",
       "        vertical-align: top;\n",
       "    }\n",
       "\n",
       "    .dataframe thead th {\n",
       "        text-align: right;\n",
       "    }\n",
       "</style>\n",
       "<table border=\"1\" class=\"dataframe\">\n",
       "  <thead>\n",
       "    <tr style=\"text-align: right;\">\n",
       "      <th></th>\n",
       "      <th>Farm_ID</th>\n",
       "      <th>Soil_pH</th>\n",
       "      <th>Soil_Moisture</th>\n",
       "      <th>Temperature_C</th>\n",
       "      <th>Rainfall_mm</th>\n",
       "      <th>Crop_Type</th>\n",
       "      <th>Fertilizer_Usage_kg</th>\n",
       "      <th>Pesticide_Usage_kg</th>\n",
       "      <th>Crop_Yield_ton</th>\n",
       "      <th>Sustainability_Score</th>\n",
       "    </tr>\n",
       "  </thead>\n",
       "  <tbody>\n",
       "    <tr>\n",
       "      <th>0</th>\n",
       "      <td>1</td>\n",
       "      <td>7.073643</td>\n",
       "      <td>49.145359</td>\n",
       "      <td>26.668157</td>\n",
       "      <td>227.890912</td>\n",
       "      <td>Wheat</td>\n",
       "      <td>131.692844</td>\n",
       "      <td>2.958215</td>\n",
       "      <td>1.576920</td>\n",
       "      <td>51.913649</td>\n",
       "    </tr>\n",
       "    <tr>\n",
       "      <th>1</th>\n",
       "      <td>2</td>\n",
       "      <td>6.236931</td>\n",
       "      <td>21.496115</td>\n",
       "      <td>29.325342</td>\n",
       "      <td>244.017493</td>\n",
       "      <td>Soybean</td>\n",
       "      <td>136.370492</td>\n",
       "      <td>19.204770</td>\n",
       "      <td>3.824686</td>\n",
       "      <td>47.159077</td>\n",
       "    </tr>\n",
       "    <tr>\n",
       "      <th>2</th>\n",
       "      <td>3</td>\n",
       "      <td>5.922335</td>\n",
       "      <td>19.469042</td>\n",
       "      <td>17.666414</td>\n",
       "      <td>141.110521</td>\n",
       "      <td>Corn</td>\n",
       "      <td>99.725210</td>\n",
       "      <td>11.041066</td>\n",
       "      <td>1.133198</td>\n",
       "      <td>50.148418</td>\n",
       "    </tr>\n",
       "    <tr>\n",
       "      <th>3</th>\n",
       "      <td>4</td>\n",
       "      <td>6.845120</td>\n",
       "      <td>27.974234</td>\n",
       "      <td>17.188722</td>\n",
       "      <td>156.785663</td>\n",
       "      <td>Wheat</td>\n",
       "      <td>194.832396</td>\n",
       "      <td>8.806271</td>\n",
       "      <td>8.870540</td>\n",
       "      <td>89.764557</td>\n",
       "    </tr>\n",
       "    <tr>\n",
       "      <th>4</th>\n",
       "      <td>5</td>\n",
       "      <td>6.934171</td>\n",
       "      <td>33.637679</td>\n",
       "      <td>23.603899</td>\n",
       "      <td>77.859362</td>\n",
       "      <td>Corn</td>\n",
       "      <td>57.271267</td>\n",
       "      <td>3.747553</td>\n",
       "      <td>8.779317</td>\n",
       "      <td>51.033941</td>\n",
       "    </tr>\n",
       "  </tbody>\n",
       "</table>\n",
       "</div>"
      ],
      "text/plain": [
       "   Farm_ID   Soil_pH  Soil_Moisture  Temperature_C  Rainfall_mm Crop_Type  \\\n",
       "0        1  7.073643      49.145359      26.668157   227.890912     Wheat   \n",
       "1        2  6.236931      21.496115      29.325342   244.017493   Soybean   \n",
       "2        3  5.922335      19.469042      17.666414   141.110521      Corn   \n",
       "3        4  6.845120      27.974234      17.188722   156.785663     Wheat   \n",
       "4        5  6.934171      33.637679      23.603899    77.859362      Corn   \n",
       "\n",
       "   Fertilizer_Usage_kg  Pesticide_Usage_kg  Crop_Yield_ton  \\\n",
       "0           131.692844            2.958215        1.576920   \n",
       "1           136.370492           19.204770        3.824686   \n",
       "2            99.725210           11.041066        1.133198   \n",
       "3           194.832396            8.806271        8.870540   \n",
       "4            57.271267            3.747553        8.779317   \n",
       "\n",
       "   Sustainability_Score  \n",
       "0             51.913649  \n",
       "1             47.159077  \n",
       "2             50.148418  \n",
       "3             89.764557  \n",
       "4             51.033941  "
      ]
     },
     "execution_count": 3,
     "metadata": {},
     "output_type": "execute_result"
    }
   ],
   "source": [
    "farmer_df.head()"
   ]
  },
  {
   "cell_type": "markdown",
   "metadata": {},
   "source": [
    "Analysis by Crop Type"
   ]
  },
  {
   "cell_type": "code",
   "execution_count": 4,
   "metadata": {},
   "outputs": [
    {
     "data": {
      "text/plain": [
       "array(['Wheat', 'Soybean', 'Corn', 'Rice'], dtype=object)"
      ]
     },
     "execution_count": 4,
     "metadata": {},
     "output_type": "execute_result"
    }
   ],
   "source": [
    "farmer_df['Crop_Type'].unique()"
   ]
  },
  {
   "cell_type": "code",
   "execution_count": 5,
   "metadata": {},
   "outputs": [
    {
     "data": {
      "text/plain": [
       "Crop_Type\n",
       "Corn       2455\n",
       "Rice       2464\n",
       "Soybean    2559\n",
       "Wheat      2522\n",
       "dtype: int64"
      ]
     },
     "execution_count": 5,
     "metadata": {},
     "output_type": "execute_result"
    }
   ],
   "source": [
    "farmer_df.groupby(['Crop_Type']).size()"
   ]
  },
  {
   "cell_type": "code",
   "execution_count": 6,
   "metadata": {},
   "outputs": [],
   "source": [
    "corn_df = farmer_df[farmer_df['Crop_Type'] == 'Corn'].reset_index()\n",
    "rice_df = farmer_df[farmer_df['Crop_Type'] == 'Rice']\n",
    "soybean_df = farmer_df[farmer_df['Crop_Type'] == 'Soybean']\n",
    "wheat_df = farmer_df[farmer_df['Crop_Type'] == 'Wheat']\n",
    "\n",
    "crop_names = ['Corn','Rice','Soybean','Wheat']\n",
    "crop_dfs = [corn_df,rice_df,soybean_df,wheat_df]"
   ]
  },
  {
   "cell_type": "markdown",
   "metadata": {},
   "source": [
    "Is there a discernable Crop_Yield_ton or Sustainability_Score across the crops?"
   ]
  },
  {
   "cell_type": "code",
   "execution_count": 12,
   "metadata": {},
   "outputs": [],
   "source": [
    "def plot_line(df, x_value): \n",
    "    sns.lineplot(data=df.loc[:,x_value])\n",
    "    # plt.xlabel('{x_value}')\n",
    "    # plt.ylabel('Count')\n",
    "    # plt.title('Value Counts of Categories')\n",
    "    plt.show()"
   ]
  },
  {
   "cell_type": "code",
   "execution_count": 14,
   "metadata": {},
   "outputs": [
    {
     "name": "stdout",
     "output_type": "stream",
     "text": [
      "Average Crop_Yield_ton in Corn: 5.532547700050306\n"
     ]
    }
   ],
   "source": [
    "for crop_name, crop_df in zip(crop_names, crop_dfs):\n",
    "    # plot_line(crop_df,'Crop_Yield_ton')\n",
    "    print(F\"Average Crop_Yield_ton in {crop_name}: {crop_df.loc[:,'Crop_Yield_ton'].mean()}\")\n",
    "    break"
   ]
  },
  {
   "cell_type": "markdown",
   "metadata": {},
   "source": [
    "Wheat seems to have a smaller Crop_Yield_ton but don't think it is significant"
   ]
  },
  {
   "cell_type": "code",
   "execution_count": null,
   "metadata": {},
   "outputs": [],
   "source": [
    "for crop_name, crop_df in zip(crop_names, crop_dfs):\n",
    "    print(F\"Average Sustainability_Score in {crop_name}: {crop_df.loc[:,'Sustainability_Score'].mean()}\")"
   ]
  },
  {
   "cell_type": "markdown",
   "metadata": {},
   "source": [
    "Soybean seems to have lower Sustainability_Score but not sure it is significant"
   ]
  },
  {
   "cell_type": "markdown",
   "metadata": {},
   "source": [
    "Testing for statistical significance"
   ]
  },
  {
   "cell_type": "code",
   "execution_count": null,
   "metadata": {},
   "outputs": [],
   "source": [
    "Crop_Yield_ton_ANOVA = f_oneway(corn_df['Crop_Yield_ton'], rice_df['Crop_Yield_ton'], soybean_df['Crop_Yield_ton'], wheat_df['Crop_Yield_ton'])"
   ]
  },
  {
   "cell_type": "code",
   "execution_count": 21,
   "metadata": {},
   "outputs": [
    {
     "name": "stdout",
     "output_type": "stream",
     "text": [
      "Crop is not statistically significant as p value of the test is: 0.4242485393761416 >> 0.0.5 in determining Crop_Yield_ton\n"
     ]
    }
   ],
   "source": [
    "print(F\"Crop is not statistically significant as p value of the test is: {Crop_Yield_ton_ANOVA.pvalue} >> 0.0.5 in determining Crop_Yield_ton\")"
   ]
  },
  {
   "cell_type": "code",
   "execution_count": 22,
   "metadata": {},
   "outputs": [],
   "source": [
    "Sustainability_Score_ANOVA = f_oneway(corn_df['Sustainability_Score'], rice_df['Sustainability_Score'], soybean_df['Sustainability_Score'], wheat_df['Sustainability_Score'])"
   ]
  },
  {
   "cell_type": "code",
   "execution_count": 23,
   "metadata": {},
   "outputs": [
    {
     "name": "stdout",
     "output_type": "stream",
     "text": [
      "Crop is not statistically significant as p value of the test is: 0.9656869114798704 >> 0.0.5 in determining Sustainability_Score\n"
     ]
    }
   ],
   "source": [
    "print(F\"Crop is not statistically significant as p value of the test is: {Sustainability_Score_ANOVA.pvalue} >> 0.0.5 in determining Sustainability_Score\")"
   ]
  }
 ],
 "metadata": {
  "kernelspec": {
   "display_name": "predictorEnv",
   "language": "python",
   "name": "python3"
  },
  "language_info": {
   "codemirror_mode": {
    "name": "ipython",
    "version": 3
   },
   "file_extension": ".py",
   "mimetype": "text/x-python",
   "name": "python",
   "nbconvert_exporter": "python",
   "pygments_lexer": "ipython3",
   "version": "3.10.13"
  }
 },
 "nbformat": 4,
 "nbformat_minor": 2
}
