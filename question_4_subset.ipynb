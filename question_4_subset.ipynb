{
 "cells": [
  {
   "cell_type": "markdown",
   "metadata": {},
   "source": [
    "Cluster into specific farm types and see if you can find the optimal way to manage them"
   ]
  },
  {
   "cell_type": "code",
   "execution_count": 1,
   "metadata": {},
   "outputs": [],
   "source": [
    "import pandas as pd\n",
    "import numpy as np\n",
    "import matplotlib.pyplot as plt\n",
    "import seaborn as sns\n",
    "from sklearn.preprocessing import OneHotEncoder\n",
    "from sklearn.cluster import KMeans\n",
    "from sklearn import metrics\n",
    "from scipy.spatial.distance import cdist"
   ]
  },
  {
   "cell_type": "code",
   "execution_count": 2,
   "metadata": {},
   "outputs": [],
   "source": [
    "farmer_df = pd.read_csv('./data/farmer_advisor_dataset.csv')\n",
    "farmer_df = farmer_df.drop(columns=['Farm_ID','Crop_Type','Sustainability_Score','Crop_Yield_ton'])"
   ]
  },
  {
   "cell_type": "code",
   "execution_count": 3,
   "metadata": {},
   "outputs": [
    {
     "data": {
      "text/html": [
       "<div>\n",
       "<style scoped>\n",
       "    .dataframe tbody tr th:only-of-type {\n",
       "        vertical-align: middle;\n",
       "    }\n",
       "\n",
       "    .dataframe tbody tr th {\n",
       "        vertical-align: top;\n",
       "    }\n",
       "\n",
       "    .dataframe thead th {\n",
       "        text-align: right;\n",
       "    }\n",
       "</style>\n",
       "<table border=\"1\" class=\"dataframe\">\n",
       "  <thead>\n",
       "    <tr style=\"text-align: right;\">\n",
       "      <th></th>\n",
       "      <th>Soil_pH</th>\n",
       "      <th>Soil_Moisture</th>\n",
       "      <th>Temperature_C</th>\n",
       "      <th>Rainfall_mm</th>\n",
       "      <th>Fertilizer_Usage_kg</th>\n",
       "      <th>Pesticide_Usage_kg</th>\n",
       "    </tr>\n",
       "  </thead>\n",
       "  <tbody>\n",
       "    <tr>\n",
       "      <th>0</th>\n",
       "      <td>7.073643</td>\n",
       "      <td>49.145359</td>\n",
       "      <td>26.668157</td>\n",
       "      <td>227.890912</td>\n",
       "      <td>131.692844</td>\n",
       "      <td>2.958215</td>\n",
       "    </tr>\n",
       "    <tr>\n",
       "      <th>1</th>\n",
       "      <td>6.236931</td>\n",
       "      <td>21.496115</td>\n",
       "      <td>29.325342</td>\n",
       "      <td>244.017493</td>\n",
       "      <td>136.370492</td>\n",
       "      <td>19.204770</td>\n",
       "    </tr>\n",
       "    <tr>\n",
       "      <th>2</th>\n",
       "      <td>5.922335</td>\n",
       "      <td>19.469042</td>\n",
       "      <td>17.666414</td>\n",
       "      <td>141.110521</td>\n",
       "      <td>99.725210</td>\n",
       "      <td>11.041066</td>\n",
       "    </tr>\n",
       "    <tr>\n",
       "      <th>3</th>\n",
       "      <td>6.845120</td>\n",
       "      <td>27.974234</td>\n",
       "      <td>17.188722</td>\n",
       "      <td>156.785663</td>\n",
       "      <td>194.832396</td>\n",
       "      <td>8.806271</td>\n",
       "    </tr>\n",
       "    <tr>\n",
       "      <th>4</th>\n",
       "      <td>6.934171</td>\n",
       "      <td>33.637679</td>\n",
       "      <td>23.603899</td>\n",
       "      <td>77.859362</td>\n",
       "      <td>57.271267</td>\n",
       "      <td>3.747553</td>\n",
       "    </tr>\n",
       "  </tbody>\n",
       "</table>\n",
       "</div>"
      ],
      "text/plain": [
       "    Soil_pH  Soil_Moisture  Temperature_C  Rainfall_mm  Fertilizer_Usage_kg  \\\n",
       "0  7.073643      49.145359      26.668157   227.890912           131.692844   \n",
       "1  6.236931      21.496115      29.325342   244.017493           136.370492   \n",
       "2  5.922335      19.469042      17.666414   141.110521            99.725210   \n",
       "3  6.845120      27.974234      17.188722   156.785663           194.832396   \n",
       "4  6.934171      33.637679      23.603899    77.859362            57.271267   \n",
       "\n",
       "   Pesticide_Usage_kg  \n",
       "0            2.958215  \n",
       "1           19.204770  \n",
       "2           11.041066  \n",
       "3            8.806271  \n",
       "4            3.747553  "
      ]
     },
     "execution_count": 3,
     "metadata": {},
     "output_type": "execute_result"
    }
   ],
   "source": [
    "farmer_df.head()"
   ]
  },
  {
   "cell_type": "code",
   "execution_count": 5,
   "metadata": {},
   "outputs": [],
   "source": [
    "normalized_df=(farmer_df-farmer_df.min())/(farmer_df.max()-farmer_df.min())"
   ]
  },
  {
   "cell_type": "code",
   "execution_count": 6,
   "metadata": {},
   "outputs": [
    {
     "data": {
      "text/html": [
       "<div>\n",
       "<style scoped>\n",
       "    .dataframe tbody tr th:only-of-type {\n",
       "        vertical-align: middle;\n",
       "    }\n",
       "\n",
       "    .dataframe tbody tr th {\n",
       "        vertical-align: top;\n",
       "    }\n",
       "\n",
       "    .dataframe thead th {\n",
       "        text-align: right;\n",
       "    }\n",
       "</style>\n",
       "<table border=\"1\" class=\"dataframe\">\n",
       "  <thead>\n",
       "    <tr style=\"text-align: right;\">\n",
       "      <th></th>\n",
       "      <th>Soil_pH</th>\n",
       "      <th>Soil_Moisture</th>\n",
       "      <th>Temperature_C</th>\n",
       "      <th>Rainfall_mm</th>\n",
       "      <th>Fertilizer_Usage_kg</th>\n",
       "      <th>Pesticide_Usage_kg</th>\n",
       "    </tr>\n",
       "  </thead>\n",
       "  <tbody>\n",
       "    <tr>\n",
       "      <th>0</th>\n",
       "      <td>0.786913</td>\n",
       "      <td>0.978762</td>\n",
       "      <td>0.583413</td>\n",
       "      <td>0.711566</td>\n",
       "      <td>0.544626</td>\n",
       "      <td>0.103004</td>\n",
       "    </tr>\n",
       "    <tr>\n",
       "      <th>1</th>\n",
       "      <td>0.368503</td>\n",
       "      <td>0.287389</td>\n",
       "      <td>0.716276</td>\n",
       "      <td>0.776084</td>\n",
       "      <td>0.575814</td>\n",
       "      <td>0.958188</td>\n",
       "    </tr>\n",
       "    <tr>\n",
       "      <th>2</th>\n",
       "      <td>0.211184</td>\n",
       "      <td>0.236702</td>\n",
       "      <td>0.133315</td>\n",
       "      <td>0.364381</td>\n",
       "      <td>0.331486</td>\n",
       "      <td>0.528468</td>\n",
       "    </tr>\n",
       "    <tr>\n",
       "      <th>3</th>\n",
       "      <td>0.672637</td>\n",
       "      <td>0.449375</td>\n",
       "      <td>0.109430</td>\n",
       "      <td>0.427093</td>\n",
       "      <td>0.965601</td>\n",
       "      <td>0.410833</td>\n",
       "    </tr>\n",
       "    <tr>\n",
       "      <th>4</th>\n",
       "      <td>0.717168</td>\n",
       "      <td>0.590990</td>\n",
       "      <td>0.430197</td>\n",
       "      <td>0.111330</td>\n",
       "      <td>0.048430</td>\n",
       "      <td>0.144553</td>\n",
       "    </tr>\n",
       "    <tr>\n",
       "      <th>...</th>\n",
       "      <td>...</td>\n",
       "      <td>...</td>\n",
       "      <td>...</td>\n",
       "      <td>...</td>\n",
       "      <td>...</td>\n",
       "      <td>...</td>\n",
       "    </tr>\n",
       "    <tr>\n",
       "      <th>9995</th>\n",
       "      <td>0.568850</td>\n",
       "      <td>0.143051</td>\n",
       "      <td>0.866538</td>\n",
       "      <td>0.868128</td>\n",
       "      <td>0.261324</td>\n",
       "      <td>0.658669</td>\n",
       "    </tr>\n",
       "    <tr>\n",
       "      <th>9996</th>\n",
       "      <td>0.375853</td>\n",
       "      <td>0.053980</td>\n",
       "      <td>0.416215</td>\n",
       "      <td>0.335518</td>\n",
       "      <td>0.284483</td>\n",
       "      <td>0.118746</td>\n",
       "    </tr>\n",
       "    <tr>\n",
       "      <th>9997</th>\n",
       "      <td>0.769540</td>\n",
       "      <td>0.004005</td>\n",
       "      <td>0.420003</td>\n",
       "      <td>0.334753</td>\n",
       "      <td>0.361208</td>\n",
       "      <td>0.731766</td>\n",
       "    </tr>\n",
       "    <tr>\n",
       "      <th>9998</th>\n",
       "      <td>0.073663</td>\n",
       "      <td>0.465858</td>\n",
       "      <td>0.806127</td>\n",
       "      <td>0.208587</td>\n",
       "      <td>0.057535</td>\n",
       "      <td>0.600966</td>\n",
       "    </tr>\n",
       "    <tr>\n",
       "      <th>9999</th>\n",
       "      <td>0.566594</td>\n",
       "      <td>0.554348</td>\n",
       "      <td>0.453497</td>\n",
       "      <td>0.077734</td>\n",
       "      <td>0.760567</td>\n",
       "      <td>0.244162</td>\n",
       "    </tr>\n",
       "  </tbody>\n",
       "</table>\n",
       "<p>10000 rows × 6 columns</p>\n",
       "</div>"
      ],
      "text/plain": [
       "       Soil_pH  Soil_Moisture  Temperature_C  Rainfall_mm  \\\n",
       "0     0.786913       0.978762       0.583413     0.711566   \n",
       "1     0.368503       0.287389       0.716276     0.776084   \n",
       "2     0.211184       0.236702       0.133315     0.364381   \n",
       "3     0.672637       0.449375       0.109430     0.427093   \n",
       "4     0.717168       0.590990       0.430197     0.111330   \n",
       "...        ...            ...            ...          ...   \n",
       "9995  0.568850       0.143051       0.866538     0.868128   \n",
       "9996  0.375853       0.053980       0.416215     0.335518   \n",
       "9997  0.769540       0.004005       0.420003     0.334753   \n",
       "9998  0.073663       0.465858       0.806127     0.208587   \n",
       "9999  0.566594       0.554348       0.453497     0.077734   \n",
       "\n",
       "      Fertilizer_Usage_kg  Pesticide_Usage_kg  \n",
       "0                0.544626            0.103004  \n",
       "1                0.575814            0.958188  \n",
       "2                0.331486            0.528468  \n",
       "3                0.965601            0.410833  \n",
       "4                0.048430            0.144553  \n",
       "...                   ...                 ...  \n",
       "9995             0.261324            0.658669  \n",
       "9996             0.284483            0.118746  \n",
       "9997             0.361208            0.731766  \n",
       "9998             0.057535            0.600966  \n",
       "9999             0.760567            0.244162  \n",
       "\n",
       "[10000 rows x 6 columns]"
      ]
     },
     "execution_count": 6,
     "metadata": {},
     "output_type": "execute_result"
    }
   ],
   "source": [
    "normalized_df"
   ]
  },
  {
   "cell_type": "code",
   "execution_count": 7,
   "metadata": {},
   "outputs": [],
   "source": [
    "distortions = []\n",
    "inertias = []\n",
    "mapping1 = {}\n",
    "mapping2 = {}\n",
    "K = range(1, 50)\n",
    "\n",
    "# Fit K-means for different values of k\n",
    "for k in K:\n",
    "    kmeanModel = KMeans(n_clusters=k, random_state=42).fit(normalized_df)\n",
    "    \n",
    "    # Calculate distortion as the average squared distance from points to their cluster centers\n",
    "    distortions.append(sum(np.min(cdist(normalized_df, kmeanModel.cluster_centers_, 'euclidean'), axis=1)**2) / normalized_df.shape[0])\n",
    "    \n",
    "    # Inertia is calculated directly by KMeans\n",
    "    inertias.append(kmeanModel.inertia_)\n",
    "    \n",
    "    # Store the mappings for easy access\n",
    "    mapping1[k] = distortions[-1]\n",
    "    mapping2[k] = inertias[-1]"
   ]
  },
  {
   "cell_type": "code",
   "execution_count": 8,
   "metadata": {},
   "outputs": [
    {
     "name": "stdout",
     "output_type": "stream",
     "text": [
      "Distortion values:\n"
     ]
    },
    {
     "data": {
      "image/png": "[encoded data removed]",
      "text/plain": [
       "<Figure size 640x480 with 1 Axes>"
      ]
     },
     "metadata": {},
     "output_type": "display_data"
    }
   ],
   "source": [
    "print(\"Distortion values:\")\n",
    "# for key, val in mapping1.items():\n",
    "#     print(f'{key} : {val}')\n",
    "# Plotting the graph of k versus Distortion\n",
    "plt.plot(K, distortions, 'bx-')\n",
    "plt.xlabel('Number of Clusters (k)')\n",
    "plt.ylabel('Distortion')\n",
    "plt.title('The Elbow Method using Distortion')\n",
    "plt.grid()\n",
    "plt.show()"
   ]
  },
  {
   "cell_type": "code",
   "execution_count": 9,
   "metadata": {},
   "outputs": [
    {
     "name": "stdout",
     "output_type": "stream",
     "text": [
      "Inertia values:\n"
     ]
    },
    {
     "data": {
      "image/png": "[encoded data removed]",
      "text/plain": [
       "<Figure size 640x480 with 1 Axes>"
      ]
     },
     "metadata": {},
     "output_type": "display_data"
    }
   ],
   "source": [
    "print(\"Inertia values:\")\n",
    "# for key, val in mapping2.items():\n",
    "#     print(f'{key} : {val}')\n",
    "# Plotting the graph of k versus Inertia\n",
    "plt.plot(K, inertias, 'bx-')\n",
    "plt.xlabel('Number of Clusters (k)')\n",
    "plt.ylabel('Inertia')\n",
    "plt.title('The Elbow Method using Inertia')\n",
    "plt.grid()\n",
    "plt.show()\n"
   ]
  },
  {
   "cell_type": "code",
   "execution_count": null,
   "metadata": {},
   "outputs": [],
   "source": [
    "kmeanModel = KMeans(n_clusters=15, random_state=42).fit(normalized_df)"
   ]
  },
  {
   "cell_type": "code",
   "execution_count": null,
   "metadata": {},
   "outputs": [],
   "source": [
    "normalized_df.iloc[0].to_numpy().reshape(1, -1)"
   ]
  },
  {
   "cell_type": "code",
   "execution_count": null,
   "metadata": {},
   "outputs": [],
   "source": [
    "normalized_df.loc[normalized_df['Crop_Type_Corn'] == 1.0]"
   ]
  },
  {
   "cell_type": "code",
   "execution_count": null,
   "metadata": {},
   "outputs": [],
   "source": [
    "for index, row in normalized_df.loc[normalized_df['Crop_Type_Corn'] == 1.0].iterrows():\n",
    "    # print(row)\n",
    "    print(kmeanModel.predict(row.to_numpy().reshape(1, -1)))\n"
   ]
  },
  {
   "cell_type": "code",
   "execution_count": null,
   "metadata": {},
   "outputs": [],
   "source": []
  },
  {
   "cell_type": "code",
   "execution_count": null,
   "metadata": {},
   "outputs": [],
   "source": [
    "kmeanModel.predict(normalized_df.iloc[1].to_numpy().reshape(1, -1))"
   ]
  },
  {
   "cell_type": "code",
   "execution_count": null,
   "metadata": {},
   "outputs": [],
   "source": [
    "kmeanModel.predict(normalized_df.iloc[2].to_numpy().reshape(1, -1))"
   ]
  },
  {
   "cell_type": "code",
   "execution_count": null,
   "metadata": {},
   "outputs": [],
   "source": [
    "kmeanModel.predict(normalized_df.iloc[3].to_numpy().reshape(1, -1))"
   ]
  }
 ],
 "metadata": {
  "kernelspec": {
   "display_name": "predictorEnv",
   "language": "python",
   "name": "python3"
  },
  "language_info": {
   "codemirror_mode": {
    "name": "ipython",
    "version": 3
   },
   "file_extension": ".py",
   "mimetype": "text/x-python",
   "name": "python",
   "nbconvert_exporter": "python",
   "pygments_lexer": "ipython3",
   "version": "3.10.13"
  }
 },
 "nbformat": 4,
 "nbformat_minor": 2
}
